{
  "nbformat": 4,
  "nbformat_minor": 0,
  "metadata": {
    "colab": {
      "provenance": [],
      "name": "RCNN_KWS.ipynb",
      "authorship_tag": "ABX9TyNqkfjC0BmjOWBRcZXHFecD",
      "include_colab_link": true
    },
    "kernelspec": {
      "name": "python3",
      "display_name": "Python 3"
    },
    "language_info": {
      "name": "python"
    }
  },
  "cells": [
    {
      "cell_type": "markdown",
      "metadata": {
        "id": "view-in-github",
        "colab_type": "text"
      },
      "source": [
        "<a href=\"https://colab.research.google.com/github/Lucas-hearc/KeywordSpotting/blob/main/RCNN_KWS.ipynb\" target=\"_parent\"><img src=\"https://colab.research.google.com/assets/colab-badge.svg\" alt=\"Open In Colab\"/></a>"
      ]
    },
    {
      "cell_type": "code",
      "execution_count": null,
      "metadata": {
        "id": "y_19dBueGd32"
      },
      "outputs": [],
      "source": [
        "!pip install librosa\n",
        "!pip install numpy\n",
        "!pip install matplotlib\n",
        "!pip install tensorflow"
      ]
    },
    {
      "cell_type": "code",
      "source": [
        "import os\n",
        "import zipfile\n",
        "from google.colab import drive\n",
        "import librosa\n",
        "import librosa.display\n",
        "import IPython.display as ipd\n",
        "import matplotlib.pyplot as plt\n",
        "import numpy as np\n",
        "import seaborn\n",
        "import tensorflow\n",
        "\n",
        "drive.mount('/content/drive')\n",
        "os.chdir('/content/drive/My Drive')\n",
        "os.chdir('/content/drive/My Drive/DATA')"
      ],
      "metadata": {
        "colab": {
          "base_uri": "https://localhost:8080/"
        },
        "id": "9qhe-1blIJ2w",
        "outputId": "5b56f47d-993b-4857-a314-920b458c42c5"
      },
      "execution_count": 2,
      "outputs": [
        {
          "output_type": "stream",
          "name": "stdout",
          "text": [
            "Mounted at /content/drive\n"
          ]
        }
      ]
    },
    {
      "cell_type": "code",
      "source": [
        "%cd content/"
      ],
      "metadata": {
        "colab": {
          "base_uri": "https://localhost:8080/"
        },
        "id": "64S2MtqfIVgQ",
        "outputId": "bea18708-754b-49a1-99ea-580829b2a1a1"
      },
      "execution_count": 3,
      "outputs": [
        {
          "output_type": "stream",
          "name": "stdout",
          "text": [
            "[Errno 2] No such file or directory: 'content/'\n",
            "/content\n"
          ]
        }
      ]
    },
    {
      "cell_type": "code",
      "source": [
        "x1 = np.load('content/X_split_test.npy')\n",
        "x2 = np.load('content/X_split_train.npy')\n",
        "t1=np.shape(x1)\n",
        "t2=np.shape(x2)\n",
        "\n",
        "print(np.shape(x1[1]))"
      ],
      "metadata": {
        "colab": {
          "base_uri": "https://localhost:8080/"
        },
        "id": "HONqN9eucdrE",
        "outputId": "14dac8fd-afbf-4f37-8f72-f44a30329404"
      },
      "execution_count": 92,
      "outputs": [
        {
          "output_type": "stream",
          "name": "stdout",
          "text": [
            "(1600,)\n"
          ]
        }
      ]
    },
    {
      "cell_type": "code",
      "source": [
        "%cd  .."
      ],
      "metadata": {
        "colab": {
          "base_uri": "https://localhost:8080/"
        },
        "id": "xcgucAZLqmz8",
        "outputId": "53801144-516b-41e3-e42b-6f4680bff068"
      },
      "execution_count": 7,
      "outputs": [
        {
          "output_type": "stream",
          "name": "stdout",
          "text": [
            "/\n"
          ]
        }
      ]
    },
    {
      "cell_type": "code",
      "source": [
        "%cd content/drive/MyDrive/DATA/data/data/training/"
      ],
      "metadata": {
        "colab": {
          "base_uri": "https://localhost:8080/"
        },
        "id": "fQcbB8P-plst",
        "outputId": "e384c1b2-8bcb-4ad1-fa9a-2d72ec723fe3"
      },
      "execution_count": 41,
      "outputs": [
        {
          "output_type": "stream",
          "name": "stdout",
          "text": [
            "/content/drive/MyDrive\n"
          ]
        }
      ]
    },
    {
      "cell_type": "code",
      "source": [
        "import os\n",
        "import librosa\n",
        "import numpy as np\n",
        "\n",
        "audioFile = '/content/drive/MyDrive/DATA/data/data/training/detresse/Detresse.au secour.3rv60cmk.ingestion-5877979785-fpttj.s26.wav'\n",
        "\n",
        "# Paramètres MFCC\n",
        "nmfcc = 32\n",
        "frame_length = 0.02\n",
        "frame_stride = 0.02\n",
        "filter_number = 32\n",
        "fft_length = 256\n",
        "normalization_window_size = 101\n",
        "\n",
        "audio, sr = librosa.load(audioFile)\n",
        "\n",
        "\n",
        "\n",
        "# Extraire les MFCC\n",
        "mfcc = librosa.feature.mfcc(\n",
        "    y=audio,\n",
        "    sr=sr,\n",
        "    n_mfcc=nmfcc,\n",
        "    hop_length=int(sr * frame_stride),\n",
        "    n_fft=int(sr * frame_length),\n",
        "    n_mels=filter_number,\n",
        "    win_length=int(sr * frame_length),\n",
        "    center=False,\n",
        "    htk=True,\n",
        "    norm=None,\n",
        "    window='hann'\n",
        ")\n",
        "mfcc_flat = np.ravel(mfcc)\n",
        "# Paramètres d'affichage\n",
        "np.set_printoptions(precision=2)\n",
        "np.set_printoptions(threshold=np.inf)  # Afficher toutes les valeurs de la liste\n",
        "\n",
        "\n",
        "# Normaliser les coefficients MFCC\n",
        "mfcc = (mfcc - np.mean(mfcc)) / np.std(mfcc)\n",
        "# Tracer la heatmap\n",
        "plt.figure(figsize=(10, 6))\n",
        "seaborn.heatmap(data=mfcc, cmap='coolwarm', xticklabels=False, yticklabels=False)\n",
        "\n",
        "# Ajouter les titres des axes\n",
        "plt.xlabel('MFCC Coefficients')\n",
        "plt.ylabel('Time')\n",
        "\n",
        "# Afficher le tracé\n",
        "plt.show()\n",
        "\n",
        "\n"
      ],
      "metadata": {
        "id": "_bi-kbisbO05"
      },
      "execution_count": null,
      "outputs": []
    },
    {
      "cell_type": "code",
      "source": [
        "import os\n",
        "import librosa\n",
        "import numpy as np\n",
        "import tensorflow as tf\n",
        "from tensorflow.keras.models import Sequential\n",
        "from tensorflow.keras.layers import Dense, Reshape, Conv2D, MaxPooling2D, Dropout, Flatten\n",
        "\n",
        "# Paramètres MFCC\n",
        "nmfcc = 32\n",
        "frame_length = 0.02\n",
        "frame_stride = 0.02\n",
        "filter_number = 32\n",
        "fft_length = 256\n",
        "normalization_window_size = 101\n",
        "\n",
        "# Liste pour stocker les MFCC de tous les fichiers audio\n",
        "mfccs = []\n",
        "labels = []\n",
        "\n",
        "audioFolder = 'content/drive/MyDrive/DATA/data/data/training/detresse/'\n",
        "\n",
        "# Parcourir tous les fichiers audio du dossier\n",
        "for filename in os.listdir(audioFolder):\n",
        "    if filename.endswith('.wav'):\n",
        "        # Charger le fichier audio\n",
        "        audio_path = os.path.join(audioFolder, filename)\n",
        "        audio, sr = librosa.load(audio_path)\n",
        "        # Extraire les MFCC\n",
        "        mfcc = librosa.feature.mfcc(\n",
        "            y=audio,\n",
        "            sr=sr,\n",
        "            n_mfcc=nmfcc,\n",
        "            hop_length=int(sr * frame_stride),\n",
        "            n_fft=int(sr * frame_length),\n",
        "            n_mels=filter_number,\n",
        "            win_length=int(sr * frame_length),\n",
        "            center=False,\n",
        "            htk=True,\n",
        "            norm=None,\n",
        "            window='hann'\n",
        "        )\n",
        "        # Ajouter les MFCC à la liste\n",
        "        mfcc = np.ravel(mfcc)\n",
        "        mfccs.append(mfcc)\n",
        "        labels.append([1,0])\n",
        "\n",
        "\n",
        "audioFolder = 'content/drive/MyDrive/DATA/data/data/testing/parole/'\n",
        "for filename in os.listdir(audioFolder):\n",
        "    if filename.endswith('.wav'):\n",
        "        # Charger le fichier audio\n",
        "        audio_path = os.path.join(audioFolder, filename)\n",
        "        audio, sr = librosa.load(audio_path)\n",
        "        # Extraire les MFCC\n",
        "        mfcc = librosa.feature.mfcc(\n",
        "            y=audio,\n",
        "            sr=sr,\n",
        "            n_mfcc=nmfcc,\n",
        "            hop_length=int(sr * frame_stride),\n",
        "            n_fft=int(sr * frame_length),\n",
        "            n_mels=filter_number,\n",
        "            win_length=int(sr * frame_length),\n",
        "            center=False,\n",
        "            htk=True,\n",
        "            norm=None,\n",
        "            window='hann'\n",
        "        )\n",
        "        # Ajouter les MFCC à la liste\n",
        "        mfcc = np.ravel(mfcc)\n",
        "        mfccs.append(mfcc)\n",
        "        labels.append([0,1])\n",
        "\n",
        "# Convertir les listes en tableaux numpy 2D\n",
        "X_train = np.vstack(mfccs)\n",
        "Y_train = np.array(labels)\n",
        "\n",
        "print(np.shape(Y_train))\n",
        "\n",
        "######################################## TESTING ######################################\n",
        "\n",
        "mfccs_test = []\n",
        "labels_test = []\n",
        "\n",
        "audioFolder = 'content/drive/MyDrive/DATA/data/data/testing/parole/'\n",
        "for filename in os.listdir(audioFolder):\n",
        "    if filename.endswith('.wav'):\n",
        "        # Charger le fichier audio\n",
        "        audio_path = os.path.join(audioFolder, filename)\n",
        "        audio, sr = librosa.load(audio_path)\n",
        "        # Extraire les MFCC\n",
        "        mfcc = librosa.feature.mfcc(\n",
        "            y=audio,\n",
        "            sr=sr,\n",
        "            n_mfcc=nmfcc,\n",
        "            hop_length=int(sr * frame_stride),\n",
        "            n_fft=int(sr * frame_length),\n",
        "            n_mels=filter_number,\n",
        "            win_length=int(sr * frame_length),\n",
        "            center=False,\n",
        "            htk=True,\n",
        "            norm=None,\n",
        "            window='hann'\n",
        "        )\n",
        "        # Ajouter les MFCC à la liste\n",
        "        mfcc = np.ravel(mfcc)\n",
        "        mfccs_test.append(mfcc)\n",
        "        labels_test.append([0,1])\n",
        "\n",
        "audioFolder = 'content/drive/MyDrive/DATA/data/data/training/parole/'\n",
        "for filename in os.listdir(audioFolder):\n",
        "    if filename.endswith('.wav'):\n",
        "        # Charger le fichier audio\n",
        "        audio_path = os.path.join(audioFolder, filename)\n",
        "        audio, sr = librosa.load(audio_path)\n",
        "        # Extraire les MFCC\n",
        "        mfcc = librosa.feature.mfcc(\n",
        "            y=audio,\n",
        "            sr=sr,\n",
        "            n_mfcc=nmfcc,\n",
        "            hop_length=int(sr * frame_stride),\n",
        "            n_fft=int(sr * frame_length),\n",
        "            n_mels=filter_number,\n",
        "            win_length=int(sr * frame_length),\n",
        "            center=False,\n",
        "            htk=True,\n",
        "            norm=None,\n",
        "            window='hann'\n",
        "        )\n",
        "        # Ajouter les MFCC à la liste\n",
        "        mfcc = np.ravel(mfcc)\n",
        "        mfccs_test.append(mfcc)\n",
        "        labels_test.append([1,0])\n",
        "\n",
        "# Convertir les listes en tableaux numpy 2D\n",
        "X_test = np.vstack(mfccs_test)\n",
        "Y_test = np.array(labels_test)\n",
        "\n",
        "# Mélanger les données d'entraînement\n",
        "indices = np.arange(X_train.shape[0])\n",
        "np.random.shuffle(indices)\n",
        "X_train = X_train[indices]\n",
        "Y_train = Y_train[indices]\n",
        "\n",
        "indices = np.arange(X_test.shape[0])\n",
        "np.random.shuffle(indices)\n",
        "X_test = X_test[indices]\n",
        "Y_test = Y_test[indices]\n",
        "\n",
        "# Convertir les étiquettes en format one-hot encoding\n",
        "#Y_train = tf.keras.utils.to_categorical(Y_train)\n",
        "#Y_test = tf.keras.utils.to_categorical(Y_test)\n",
        "\n",
        "# Reshape des données d'entrée pour correspondre à la forme attendue par le modèle\n",
        "#input_shape = (np.shape(X_train)[1],)\n",
        "#X_train = X_train.reshape((-1,) + input_shape)\n",
        "#X_test = X_test.reshape((-1,) + input_shape)\n",
        "\n",
        "model = Sequential()\n",
        "model.add(Reshape((25, 64, 1), input_shape=input_shape))\n",
        "model.add(Conv2D(8, kernel_size=3, padding='same', activation='relu'))\n",
        "model.add(MaxPooling2D(pool_size=2, strides=2, padding='same'))\n",
        "model.add(Dropout(0.5))\n",
        "model.add(Conv2D(16, kernel_size=3, padding='same', activation='relu'))\n",
        "model.add(MaxPooling2D(pool_size=2, strides=2, padding='same'))\n",
        "model.add(Dropout(0.5))\n",
        "model.add(Flatten())\n",
        "model.add(Dense(2, activation='softmax'))\n",
        "\n",
        "# Définition de l'optimiseur et de la fonction de perte\n",
        "optimizer = tf.keras.optimizers.Adam(learning_rate=0.005)\n",
        "loss = tf.keras.losses.CategoricalCrossentropy()\n",
        "\n",
        "# Compilation du modèle\n",
        "model.compile(optimizer=optimizer, loss=loss, metrics=['accuracy'])\n",
        "\n",
        "# Entraînement du modèle\n",
        "model.fit(X_train, Y_train, epochs=100, batch_size=32, validation_data=(X_test, Y_test), verbose=2)\n",
        "\n"
      ],
      "metadata": {
        "colab": {
          "base_uri": "https://localhost:8080/",
          "height": 1000
        },
        "outputId": "91a84ff4-0caa-4db9-a8dd-a7ba2e20c2d5",
        "id": "4esG1HTaceBc"
      },
      "execution_count": 19,
      "outputs": [
        {
          "output_type": "display_data",
          "data": {
            "text/plain": [
              "<Figure size 640x480 with 2 Axes>"
            ],
            "image/png": "[encoded data removed]"
          },
          "metadata": {}
        },
        {
          "output_type": "stream",
          "name": "stdout",
          "text": [
            "(216, 2)\n",
            "Epoch 1/100\n",
            "7/7 - 1s - loss: 227.9772 - accuracy: 0.7269 - val_loss: 67.5330 - val_accuracy: 0.7912 - 1s/epoch - 212ms/step\n",
            "Epoch 2/100\n",
            "7/7 - 0s - loss: 122.4112 - accuracy: 0.6759 - val_loss: 21.3608 - val_accuracy: 0.5110 - 297ms/epoch - 42ms/step\n",
            "Epoch 3/100\n",
            "7/7 - 0s - loss: 70.3874 - accuracy: 0.7685 - val_loss: 9.4977 - val_accuracy: 0.6593 - 303ms/epoch - 43ms/step\n",
            "Epoch 4/100\n",
            "7/7 - 0s - loss: 37.3684 - accuracy: 0.7407 - val_loss: 40.2657 - val_accuracy: 0.2308 - 365ms/epoch - 52ms/step\n",
            "Epoch 5/100\n",
            "7/7 - 0s - loss: 23.5290 - accuracy: 0.7083 - val_loss: 12.2236 - val_accuracy: 0.2418 - 370ms/epoch - 53ms/step\n",
            "Epoch 6/100\n",
            "7/7 - 0s - loss: 17.3391 - accuracy: 0.7454 - val_loss: 8.2679 - val_accuracy: 0.2363 - 296ms/epoch - 42ms/step\n",
            "Epoch 7/100\n",
            "7/7 - 0s - loss: 11.3189 - accuracy: 0.7593 - val_loss: 4.0308 - val_accuracy: 0.2912 - 310ms/epoch - 44ms/step\n",
            "Epoch 8/100\n",
            "7/7 - 0s - loss: 6.2060 - accuracy: 0.8009 - val_loss: 3.8489 - val_accuracy: 0.2802 - 356ms/epoch - 51ms/step\n",
            "Epoch 9/100\n",
            "7/7 - 0s - loss: 6.6201 - accuracy: 0.7593 - val_loss: 3.3395 - val_accuracy: 0.3407 - 499ms/epoch - 71ms/step\n",
            "Epoch 10/100\n",
            "7/7 - 1s - loss: 5.2979 - accuracy: 0.8241 - val_loss: 3.1245 - val_accuracy: 0.3736 - 536ms/epoch - 77ms/step\n",
            "Epoch 11/100\n",
            "7/7 - 0s - loss: 4.2717 - accuracy: 0.7917 - val_loss: 2.7298 - val_accuracy: 0.3242 - 493ms/epoch - 70ms/step\n",
            "Epoch 12/100\n",
            "7/7 - 1s - loss: 3.5998 - accuracy: 0.7870 - val_loss: 2.0748 - val_accuracy: 0.3516 - 555ms/epoch - 79ms/step\n",
            "Epoch 13/100\n",
            "7/7 - 1s - loss: 2.7590 - accuracy: 0.8056 - val_loss: 1.4530 - val_accuracy: 0.4066 - 509ms/epoch - 73ms/step\n",
            "Epoch 14/100\n",
            "7/7 - 1s - loss: 2.9645 - accuracy: 0.7870 - val_loss: 1.2259 - val_accuracy: 0.4396 - 500ms/epoch - 71ms/step\n",
            "Epoch 15/100\n",
            "7/7 - 1s - loss: 1.7270 - accuracy: 0.8148 - val_loss: 0.9886 - val_accuracy: 0.4231 - 507ms/epoch - 72ms/step\n",
            "Epoch 16/100\n",
            "7/7 - 1s - loss: 1.7256 - accuracy: 0.7778 - val_loss: 0.9072 - val_accuracy: 0.4286 - 526ms/epoch - 75ms/step\n",
            "Epoch 17/100\n",
            "7/7 - 0s - loss: 2.1929 - accuracy: 0.7824 - val_loss: 0.8522 - val_accuracy: 0.4451 - 398ms/epoch - 57ms/step\n",
            "Epoch 18/100\n",
            "7/7 - 0s - loss: 1.0304 - accuracy: 0.8565 - val_loss: 0.8117 - val_accuracy: 0.4835 - 284ms/epoch - 41ms/step\n",
            "Epoch 19/100\n",
            "7/7 - 0s - loss: 1.3904 - accuracy: 0.8009 - val_loss: 0.7558 - val_accuracy: 0.5440 - 280ms/epoch - 40ms/step\n",
            "Epoch 20/100\n",
            "7/7 - 0s - loss: 1.2120 - accuracy: 0.8009 - val_loss: 0.7171 - val_accuracy: 0.6209 - 370ms/epoch - 53ms/step\n",
            "Epoch 21/100\n",
            "7/7 - 0s - loss: 1.2273 - accuracy: 0.7963 - val_loss: 0.7063 - val_accuracy: 0.6264 - 362ms/epoch - 52ms/step\n",
            "Epoch 22/100\n",
            "7/7 - 0s - loss: 0.9572 - accuracy: 0.8194 - val_loss: 0.7019 - val_accuracy: 0.6429 - 367ms/epoch - 52ms/step\n",
            "Epoch 23/100\n",
            "7/7 - 0s - loss: 0.7356 - accuracy: 0.8333 - val_loss: 0.7096 - val_accuracy: 0.6264 - 302ms/epoch - 43ms/step\n",
            "Epoch 24/100\n",
            "7/7 - 0s - loss: 0.8043 - accuracy: 0.8611 - val_loss: 0.7359 - val_accuracy: 0.5659 - 281ms/epoch - 40ms/step\n",
            "Epoch 25/100\n",
            "7/7 - 0s - loss: 0.9673 - accuracy: 0.8102 - val_loss: 0.7441 - val_accuracy: 0.5769 - 285ms/epoch - 41ms/step\n",
            "Epoch 26/100\n",
            "7/7 - 0s - loss: 0.8958 - accuracy: 0.8519 - val_loss: 0.7088 - val_accuracy: 0.6264 - 360ms/epoch - 51ms/step\n",
            "Epoch 27/100\n",
            "7/7 - 0s - loss: 0.6910 - accuracy: 0.7917 - val_loss: 0.6773 - val_accuracy: 0.6923 - 362ms/epoch - 52ms/step\n",
            "Epoch 28/100\n"
          ]
        },
        {
          "output_type": "error",
          "ename": "KeyboardInterrupt",
          "evalue": "ignored",
          "traceback": [
            "\u001b[0;31m---------------------------------------------------------------------------\u001b[0m",
            "\u001b[0;31mKeyboardInterrupt\u001b[0m                         Traceback (most recent call last)",
            "\u001b[0;32m<ipython-input-19-68605e5b7ea3>\u001b[0m in \u001b[0;36m<cell line: 180>\u001b[0;34m()\u001b[0m\n\u001b[1;32m    178\u001b[0m \u001b[0;34m\u001b[0m\u001b[0m\n\u001b[1;32m    179\u001b[0m \u001b[0;31m# Entraînement du modèle\u001b[0m\u001b[0;34m\u001b[0m\u001b[0;34m\u001b[0m\u001b[0m\n\u001b[0;32m--> 180\u001b[0;31m \u001b[0mmodel\u001b[0m\u001b[0;34m.\u001b[0m\u001b[0mfit\u001b[0m\u001b[0;34m(\u001b[0m\u001b[0mX_train\u001b[0m\u001b[0;34m,\u001b[0m \u001b[0mY_train\u001b[0m\u001b[0;34m,\u001b[0m \u001b[0mepochs\u001b[0m\u001b[0;34m=\u001b[0m\u001b[0;36m100\u001b[0m\u001b[0;34m,\u001b[0m \u001b[0mbatch_size\u001b[0m\u001b[0;34m=\u001b[0m\u001b[0;36m32\u001b[0m\u001b[0;34m,\u001b[0m \u001b[0mvalidation_data\u001b[0m\u001b[0;34m=\u001b[0m\u001b[0;34m(\u001b[0m\u001b[0mX_test\u001b[0m\u001b[0;34m,\u001b[0m \u001b[0mY_test\u001b[0m\u001b[0;34m)\u001b[0m\u001b[0;34m,\u001b[0m \u001b[0mverbose\u001b[0m\u001b[0;34m=\u001b[0m\u001b[0;36m2\u001b[0m\u001b[0;34m)\u001b[0m\u001b[0;34m\u001b[0m\u001b[0;34m\u001b[0m\u001b[0m\n\u001b[0m\u001b[1;32m    181\u001b[0m \u001b[0;34m\u001b[0m\u001b[0m\n",
            "\u001b[0;32m/usr/local/lib/python3.10/dist-packages/keras/utils/traceback_utils.py\u001b[0m in \u001b[0;36merror_handler\u001b[0;34m(*args, **kwargs)\u001b[0m\n\u001b[1;32m     63\u001b[0m         \u001b[0mfiltered_tb\u001b[0m \u001b[0;34m=\u001b[0m \u001b[0;32mNone\u001b[0m\u001b[0;34m\u001b[0m\u001b[0;34m\u001b[0m\u001b[0m\n\u001b[1;32m     64\u001b[0m         \u001b[0;32mtry\u001b[0m\u001b[0;34m:\u001b[0m\u001b[0;34m\u001b[0m\u001b[0;34m\u001b[0m\u001b[0m\n\u001b[0;32m---> 65\u001b[0;31m             \u001b[0;32mreturn\u001b[0m \u001b[0mfn\u001b[0m\u001b[0;34m(\u001b[0m\u001b[0;34m*\u001b[0m\u001b[0margs\u001b[0m\u001b[0;34m,\u001b[0m \u001b[0;34m**\u001b[0m\u001b[0mkwargs\u001b[0m\u001b[0;34m)\u001b[0m\u001b[0;34m\u001b[0m\u001b[0;34m\u001b[0m\u001b[0m\n\u001b[0m\u001b[1;32m     66\u001b[0m         \u001b[0;32mexcept\u001b[0m \u001b[0mException\u001b[0m \u001b[0;32mas\u001b[0m \u001b[0me\u001b[0m\u001b[0;34m:\u001b[0m\u001b[0;34m\u001b[0m\u001b[0;34m\u001b[0m\u001b[0m\n\u001b[1;32m     67\u001b[0m             \u001b[0mfiltered_tb\u001b[0m \u001b[0;34m=\u001b[0m \u001b[0m_process_traceback_frames\u001b[0m\u001b[0;34m(\u001b[0m\u001b[0me\u001b[0m\u001b[0;34m.\u001b[0m\u001b[0m__traceback__\u001b[0m\u001b[0;34m)\u001b[0m\u001b[0;34m\u001b[0m\u001b[0;34m\u001b[0m\u001b[0m\n",
            "\u001b[0;32m/usr/local/lib/python3.10/dist-packages/keras/engine/training.py\u001b[0m in \u001b[0;36mfit\u001b[0;34m(self, x, y, batch_size, epochs, verbose, callbacks, validation_split, validation_data, shuffle, class_weight, sample_weight, initial_epoch, steps_per_epoch, validation_steps, validation_batch_size, validation_freq, max_queue_size, workers, use_multiprocessing)\u001b[0m\n\u001b[1;32m   1683\u001b[0m                         ):\n\u001b[1;32m   1684\u001b[0m                             \u001b[0mcallbacks\u001b[0m\u001b[0;34m.\u001b[0m\u001b[0mon_train_batch_begin\u001b[0m\u001b[0;34m(\u001b[0m\u001b[0mstep\u001b[0m\u001b[0;34m)\u001b[0m\u001b[0;34m\u001b[0m\u001b[0;34m\u001b[0m\u001b[0m\n\u001b[0;32m-> 1685\u001b[0;31m                             \u001b[0mtmp_logs\u001b[0m \u001b[0;34m=\u001b[0m \u001b[0mself\u001b[0m\u001b[0;34m.\u001b[0m\u001b[0mtrain_function\u001b[0m\u001b[0;34m(\u001b[0m\u001b[0miterator\u001b[0m\u001b[0;34m)\u001b[0m\u001b[0;34m\u001b[0m\u001b[0;34m\u001b[0m\u001b[0m\n\u001b[0m\u001b[1;32m   1686\u001b[0m                             \u001b[0;32mif\u001b[0m \u001b[0mdata_handler\u001b[0m\u001b[0;34m.\u001b[0m\u001b[0mshould_sync\u001b[0m\u001b[0;34m:\u001b[0m\u001b[0;34m\u001b[0m\u001b[0;34m\u001b[0m\u001b[0m\n\u001b[1;32m   1687\u001b[0m                                 \u001b[0mcontext\u001b[0m\u001b[0;34m.\u001b[0m\u001b[0masync_wait\u001b[0m\u001b[0;34m(\u001b[0m\u001b[0;34m)\u001b[0m\u001b[0;34m\u001b[0m\u001b[0;34m\u001b[0m\u001b[0m\n",
            "\u001b[0;32m/usr/local/lib/python3.10/dist-packages/tensorflow/python/util/traceback_utils.py\u001b[0m in \u001b[0;36merror_handler\u001b[0;34m(*args, **kwargs)\u001b[0m\n\u001b[1;32m    148\u001b[0m     \u001b[0mfiltered_tb\u001b[0m \u001b[0;34m=\u001b[0m \u001b[0;32mNone\u001b[0m\u001b[0;34m\u001b[0m\u001b[0;34m\u001b[0m\u001b[0m\n\u001b[1;32m    149\u001b[0m     \u001b[0;32mtry\u001b[0m\u001b[0;34m:\u001b[0m\u001b[0;34m\u001b[0m\u001b[0;34m\u001b[0m\u001b[0m\n\u001b[0;32m--> 150\u001b[0;31m       \u001b[0;32mreturn\u001b[0m \u001b[0mfn\u001b[0m\u001b[0;34m(\u001b[0m\u001b[0;34m*\u001b[0m\u001b[0margs\u001b[0m\u001b[0;34m,\u001b[0m \u001b[0;34m**\u001b[0m\u001b[0mkwargs\u001b[0m\u001b[0;34m)\u001b[0m\u001b[0;34m\u001b[0m\u001b[0;34m\u001b[0m\u001b[0m\n\u001b[0m\u001b[1;32m    151\u001b[0m     \u001b[0;32mexcept\u001b[0m \u001b[0mException\u001b[0m \u001b[0;32mas\u001b[0m \u001b[0me\u001b[0m\u001b[0;34m:\u001b[0m\u001b[0;34m\u001b[0m\u001b[0;34m\u001b[0m\u001b[0m\n\u001b[1;32m    152\u001b[0m       \u001b[0mfiltered_tb\u001b[0m \u001b[0;34m=\u001b[0m \u001b[0m_process_traceback_frames\u001b[0m\u001b[0;34m(\u001b[0m\u001b[0me\u001b[0m\u001b[0;34m.\u001b[0m\u001b[0m__traceback__\u001b[0m\u001b[0;34m)\u001b[0m\u001b[0;34m\u001b[0m\u001b[0;34m\u001b[0m\u001b[0m\n",
            "\u001b[0;32m/usr/local/lib/python3.10/dist-packages/tensorflow/python/eager/polymorphic_function/polymorphic_function.py\u001b[0m in \u001b[0;36m__call__\u001b[0;34m(self, *args, **kwds)\u001b[0m\n\u001b[1;32m    892\u001b[0m \u001b[0;34m\u001b[0m\u001b[0m\n\u001b[1;32m    893\u001b[0m       \u001b[0;32mwith\u001b[0m \u001b[0mOptionalXlaContext\u001b[0m\u001b[0;34m(\u001b[0m\u001b[0mself\u001b[0m\u001b[0;34m.\u001b[0m\u001b[0m_jit_compile\u001b[0m\u001b[0;34m)\u001b[0m\u001b[0;34m:\u001b[0m\u001b[0;34m\u001b[0m\u001b[0;34m\u001b[0m\u001b[0m\n\u001b[0;32m--> 894\u001b[0;31m         \u001b[0mresult\u001b[0m \u001b[0;34m=\u001b[0m \u001b[0mself\u001b[0m\u001b[0;34m.\u001b[0m\u001b[0m_call\u001b[0m\u001b[0;34m(\u001b[0m\u001b[0;34m*\u001b[0m\u001b[0margs\u001b[0m\u001b[0;34m,\u001b[0m \u001b[0;34m**\u001b[0m\u001b[0mkwds\u001b[0m\u001b[0;34m)\u001b[0m\u001b[0;34m\u001b[0m\u001b[0;34m\u001b[0m\u001b[0m\n\u001b[0m\u001b[1;32m    895\u001b[0m \u001b[0;34m\u001b[0m\u001b[0m\n\u001b[1;32m    896\u001b[0m       \u001b[0mnew_tracing_count\u001b[0m \u001b[0;34m=\u001b[0m \u001b[0mself\u001b[0m\u001b[0;34m.\u001b[0m\u001b[0mexperimental_get_tracing_count\u001b[0m\u001b[0;34m(\u001b[0m\u001b[0;34m)\u001b[0m\u001b[0;34m\u001b[0m\u001b[0;34m\u001b[0m\u001b[0m\n",
            "\u001b[0;32m/usr/local/lib/python3.10/dist-packages/tensorflow/python/eager/polymorphic_function/polymorphic_function.py\u001b[0m in \u001b[0;36m_call\u001b[0;34m(self, *args, **kwds)\u001b[0m\n\u001b[1;32m    924\u001b[0m       \u001b[0;31m# In this case we have created variables on the first call, so we run the\u001b[0m\u001b[0;34m\u001b[0m\u001b[0;34m\u001b[0m\u001b[0m\n\u001b[1;32m    925\u001b[0m       \u001b[0;31m# defunned version which is guaranteed to never create variables.\u001b[0m\u001b[0;34m\u001b[0m\u001b[0;34m\u001b[0m\u001b[0m\n\u001b[0;32m--> 926\u001b[0;31m       \u001b[0;32mreturn\u001b[0m \u001b[0mself\u001b[0m\u001b[0;34m.\u001b[0m\u001b[0m_no_variable_creation_fn\u001b[0m\u001b[0;34m(\u001b[0m\u001b[0;34m*\u001b[0m\u001b[0margs\u001b[0m\u001b[0;34m,\u001b[0m \u001b[0;34m**\u001b[0m\u001b[0mkwds\u001b[0m\u001b[0;34m)\u001b[0m  \u001b[0;31m# pylint: disable=not-callable\u001b[0m\u001b[0;34m\u001b[0m\u001b[0;34m\u001b[0m\u001b[0m\n\u001b[0m\u001b[1;32m    927\u001b[0m     \u001b[0;32melif\u001b[0m \u001b[0mself\u001b[0m\u001b[0;34m.\u001b[0m\u001b[0m_variable_creation_fn\u001b[0m \u001b[0;32mis\u001b[0m \u001b[0;32mnot\u001b[0m \u001b[0;32mNone\u001b[0m\u001b[0;34m:\u001b[0m\u001b[0;34m\u001b[0m\u001b[0;34m\u001b[0m\u001b[0m\n\u001b[1;32m    928\u001b[0m       \u001b[0;31m# Release the lock early so that multiple threads can perform the call\u001b[0m\u001b[0;34m\u001b[0m\u001b[0;34m\u001b[0m\u001b[0m\n",
            "\u001b[0;32m/usr/local/lib/python3.10/dist-packages/tensorflow/python/eager/polymorphic_function/tracing_compiler.py\u001b[0m in \u001b[0;36m__call__\u001b[0;34m(self, *args, **kwargs)\u001b[0m\n\u001b[1;32m    141\u001b[0m       (concrete_function,\n\u001b[1;32m    142\u001b[0m        filtered_flat_args) = self._maybe_define_function(args, kwargs)\n\u001b[0;32m--> 143\u001b[0;31m     return concrete_function._call_flat(\n\u001b[0m\u001b[1;32m    144\u001b[0m         filtered_flat_args, captured_inputs=concrete_function.captured_inputs)  # pylint: disable=protected-access\n\u001b[1;32m    145\u001b[0m \u001b[0;34m\u001b[0m\u001b[0m\n",
            "\u001b[0;32m/usr/local/lib/python3.10/dist-packages/tensorflow/python/eager/polymorphic_function/monomorphic_function.py\u001b[0m in \u001b[0;36m_call_flat\u001b[0;34m(self, args, captured_inputs, cancellation_manager)\u001b[0m\n\u001b[1;32m   1755\u001b[0m         and executing_eagerly):\n\u001b[1;32m   1756\u001b[0m       \u001b[0;31m# No tape is watching; skip to running the function.\u001b[0m\u001b[0;34m\u001b[0m\u001b[0;34m\u001b[0m\u001b[0m\n\u001b[0;32m-> 1757\u001b[0;31m       return self._build_call_outputs(self._inference_function.call(\n\u001b[0m\u001b[1;32m   1758\u001b[0m           ctx, args, cancellation_manager=cancellation_manager))\n\u001b[1;32m   1759\u001b[0m     forward_backward = self._select_forward_and_backward_functions(\n",
            "\u001b[0;32m/usr/local/lib/python3.10/dist-packages/tensorflow/python/eager/polymorphic_function/monomorphic_function.py\u001b[0m in \u001b[0;36mcall\u001b[0;34m(self, ctx, args, cancellation_manager)\u001b[0m\n\u001b[1;32m    379\u001b[0m       \u001b[0;32mwith\u001b[0m \u001b[0m_InterpolateFunctionError\u001b[0m\u001b[0;34m(\u001b[0m\u001b[0mself\u001b[0m\u001b[0;34m)\u001b[0m\u001b[0;34m:\u001b[0m\u001b[0;34m\u001b[0m\u001b[0;34m\u001b[0m\u001b[0m\n\u001b[1;32m    380\u001b[0m         \u001b[0;32mif\u001b[0m \u001b[0mcancellation_manager\u001b[0m \u001b[0;32mis\u001b[0m \u001b[0;32mNone\u001b[0m\u001b[0;34m:\u001b[0m\u001b[0;34m\u001b[0m\u001b[0;34m\u001b[0m\u001b[0m\n\u001b[0;32m--> 381\u001b[0;31m           outputs = execute.execute(\n\u001b[0m\u001b[1;32m    382\u001b[0m               \u001b[0mstr\u001b[0m\u001b[0;34m(\u001b[0m\u001b[0mself\u001b[0m\u001b[0;34m.\u001b[0m\u001b[0msignature\u001b[0m\u001b[0;34m.\u001b[0m\u001b[0mname\u001b[0m\u001b[0;34m)\u001b[0m\u001b[0;34m,\u001b[0m\u001b[0;34m\u001b[0m\u001b[0;34m\u001b[0m\u001b[0m\n\u001b[1;32m    383\u001b[0m               \u001b[0mnum_outputs\u001b[0m\u001b[0;34m=\u001b[0m\u001b[0mself\u001b[0m\u001b[0;34m.\u001b[0m\u001b[0m_num_outputs\u001b[0m\u001b[0;34m,\u001b[0m\u001b[0;34m\u001b[0m\u001b[0;34m\u001b[0m\u001b[0m\n",
            "\u001b[0;32m/usr/local/lib/python3.10/dist-packages/tensorflow/python/eager/execute.py\u001b[0m in \u001b[0;36mquick_execute\u001b[0;34m(op_name, num_outputs, inputs, attrs, ctx, name)\u001b[0m\n\u001b[1;32m     50\u001b[0m   \u001b[0;32mtry\u001b[0m\u001b[0;34m:\u001b[0m\u001b[0;34m\u001b[0m\u001b[0;34m\u001b[0m\u001b[0m\n\u001b[1;32m     51\u001b[0m     \u001b[0mctx\u001b[0m\u001b[0;34m.\u001b[0m\u001b[0mensure_initialized\u001b[0m\u001b[0;34m(\u001b[0m\u001b[0;34m)\u001b[0m\u001b[0;34m\u001b[0m\u001b[0;34m\u001b[0m\u001b[0m\n\u001b[0;32m---> 52\u001b[0;31m     tensors = pywrap_tfe.TFE_Py_Execute(ctx._handle, device_name, op_name,\n\u001b[0m\u001b[1;32m     53\u001b[0m                                         inputs, attrs, num_outputs)\n\u001b[1;32m     54\u001b[0m   \u001b[0;32mexcept\u001b[0m \u001b[0mcore\u001b[0m\u001b[0;34m.\u001b[0m\u001b[0m_NotOkStatusException\u001b[0m \u001b[0;32mas\u001b[0m \u001b[0me\u001b[0m\u001b[0;34m:\u001b[0m\u001b[0;34m\u001b[0m\u001b[0;34m\u001b[0m\u001b[0m\n",
            "\u001b[0;31mKeyboardInterrupt\u001b[0m: "
          ]
        }
      ]
    },
    {
      "cell_type": "code",
      "source": [
        "seaborn.heatmap(data=mfccs[0], cmap='coolwarm', xticklabels=False, yticklabels=False)\n",
        "plt.show()"
      ],
      "metadata": {
        "colab": {
          "base_uri": "https://localhost:8080/",
          "height": 328
        },
        "id": "ORGHhIcK0Lw7",
        "outputId": "2f1b38ed-3ace-4fde-e425-6b421bad7698"
      },
      "execution_count": 17,
      "outputs": [
        {
          "output_type": "error",
          "ename": "IndexError",
          "evalue": "ignored",
          "traceback": [
            "\u001b[0;31m---------------------------------------------------------------------------\u001b[0m",
            "\u001b[0;31mIndexError\u001b[0m                                Traceback (most recent call last)",
            "\u001b[0;32m<ipython-input-17-af9477093b82>\u001b[0m in \u001b[0;36m<cell line: 1>\u001b[0;34m()\u001b[0m\n\u001b[0;32m----> 1\u001b[0;31m \u001b[0mseaborn\u001b[0m\u001b[0;34m.\u001b[0m\u001b[0mheatmap\u001b[0m\u001b[0;34m(\u001b[0m\u001b[0mdata\u001b[0m\u001b[0;34m=\u001b[0m\u001b[0mmfccs\u001b[0m\u001b[0;34m[\u001b[0m\u001b[0;36m0\u001b[0m\u001b[0;34m]\u001b[0m\u001b[0;34m,\u001b[0m \u001b[0mcmap\u001b[0m\u001b[0;34m=\u001b[0m\u001b[0;34m'coolwarm'\u001b[0m\u001b[0;34m,\u001b[0m \u001b[0mxticklabels\u001b[0m\u001b[0;34m=\u001b[0m\u001b[0;32mFalse\u001b[0m\u001b[0;34m,\u001b[0m \u001b[0myticklabels\u001b[0m\u001b[0;34m=\u001b[0m\u001b[0;32mFalse\u001b[0m\u001b[0;34m)\u001b[0m\u001b[0;34m\u001b[0m\u001b[0;34m\u001b[0m\u001b[0m\n\u001b[0m\u001b[1;32m      2\u001b[0m \u001b[0mplt\u001b[0m\u001b[0;34m.\u001b[0m\u001b[0mshow\u001b[0m\u001b[0;34m(\u001b[0m\u001b[0;34m)\u001b[0m\u001b[0;34m\u001b[0m\u001b[0;34m\u001b[0m\u001b[0m\n",
            "\u001b[0;32m/usr/local/lib/python3.10/dist-packages/seaborn/matrix.py\u001b[0m in \u001b[0;36mheatmap\u001b[0;34m(data, vmin, vmax, cmap, center, robust, annot, fmt, annot_kws, linewidths, linecolor, cbar, cbar_kws, cbar_ax, square, xticklabels, yticklabels, mask, ax, **kwargs)\u001b[0m\n\u001b[1;32m    444\u001b[0m     \"\"\"\n\u001b[1;32m    445\u001b[0m     \u001b[0;31m# Initialize the plotter object\u001b[0m\u001b[0;34m\u001b[0m\u001b[0;34m\u001b[0m\u001b[0m\n\u001b[0;32m--> 446\u001b[0;31m     plotter = _HeatMapper(data, vmin, vmax, cmap, center, robust, annot, fmt,\n\u001b[0m\u001b[1;32m    447\u001b[0m                           \u001b[0mannot_kws\u001b[0m\u001b[0;34m,\u001b[0m \u001b[0mcbar\u001b[0m\u001b[0;34m,\u001b[0m \u001b[0mcbar_kws\u001b[0m\u001b[0;34m,\u001b[0m \u001b[0mxticklabels\u001b[0m\u001b[0;34m,\u001b[0m\u001b[0;34m\u001b[0m\u001b[0;34m\u001b[0m\u001b[0m\n\u001b[1;32m    448\u001b[0m                           yticklabels, mask)\n",
            "\u001b[0;32m/usr/local/lib/python3.10/dist-packages/seaborn/matrix.py\u001b[0m in \u001b[0;36m__init__\u001b[0;34m(self, data, vmin, vmax, cmap, center, robust, annot, fmt, annot_kws, cbar, cbar_kws, xticklabels, yticklabels, mask)\u001b[0m\n\u001b[1;32m    113\u001b[0m         \u001b[0mmask\u001b[0m \u001b[0;34m=\u001b[0m \u001b[0m_matrix_mask\u001b[0m\u001b[0;34m(\u001b[0m\u001b[0mdata\u001b[0m\u001b[0;34m,\u001b[0m \u001b[0mmask\u001b[0m\u001b[0;34m)\u001b[0m\u001b[0;34m\u001b[0m\u001b[0;34m\u001b[0m\u001b[0m\n\u001b[1;32m    114\u001b[0m \u001b[0;34m\u001b[0m\u001b[0m\n\u001b[0;32m--> 115\u001b[0;31m         \u001b[0mplot_data\u001b[0m \u001b[0;34m=\u001b[0m \u001b[0mnp\u001b[0m\u001b[0;34m.\u001b[0m\u001b[0mma\u001b[0m\u001b[0;34m.\u001b[0m\u001b[0mmasked_where\u001b[0m\u001b[0;34m(\u001b[0m\u001b[0mnp\u001b[0m\u001b[0;34m.\u001b[0m\u001b[0masarray\u001b[0m\u001b[0;34m(\u001b[0m\u001b[0mmask\u001b[0m\u001b[0;34m)\u001b[0m\u001b[0;34m,\u001b[0m \u001b[0mplot_data\u001b[0m\u001b[0;34m)\u001b[0m\u001b[0;34m\u001b[0m\u001b[0;34m\u001b[0m\u001b[0m\n\u001b[0m\u001b[1;32m    116\u001b[0m \u001b[0;34m\u001b[0m\u001b[0m\n\u001b[1;32m    117\u001b[0m         \u001b[0;31m# Get good names for the rows and columns\u001b[0m\u001b[0;34m\u001b[0m\u001b[0;34m\u001b[0m\u001b[0m\n",
            "\u001b[0;32m/usr/local/lib/python3.10/dist-packages/numpy/ma/core.py\u001b[0m in \u001b[0;36mmasked_where\u001b[0;34m(condition, a, copy)\u001b[0m\n\u001b[1;32m   1924\u001b[0m     \u001b[0;34m(\u001b[0m\u001b[0mcshape\u001b[0m\u001b[0;34m,\u001b[0m \u001b[0mashape\u001b[0m\u001b[0;34m)\u001b[0m \u001b[0;34m=\u001b[0m \u001b[0;34m(\u001b[0m\u001b[0mcond\u001b[0m\u001b[0;34m.\u001b[0m\u001b[0mshape\u001b[0m\u001b[0;34m,\u001b[0m \u001b[0ma\u001b[0m\u001b[0;34m.\u001b[0m\u001b[0mshape\u001b[0m\u001b[0;34m)\u001b[0m\u001b[0;34m\u001b[0m\u001b[0;34m\u001b[0m\u001b[0m\n\u001b[1;32m   1925\u001b[0m     \u001b[0;32mif\u001b[0m \u001b[0mcshape\u001b[0m \u001b[0;32mand\u001b[0m \u001b[0mcshape\u001b[0m \u001b[0;34m!=\u001b[0m \u001b[0mashape\u001b[0m\u001b[0;34m:\u001b[0m\u001b[0;34m\u001b[0m\u001b[0;34m\u001b[0m\u001b[0m\n\u001b[0;32m-> 1926\u001b[0;31m         raise IndexError(\"Inconsistent shape between the condition and the input\"\n\u001b[0m\u001b[1;32m   1927\u001b[0m                          \" (got %s and %s)\" % (cshape, ashape))\n\u001b[1;32m   1928\u001b[0m     \u001b[0;32mif\u001b[0m \u001b[0mhasattr\u001b[0m\u001b[0;34m(\u001b[0m\u001b[0ma\u001b[0m\u001b[0;34m,\u001b[0m \u001b[0;34m'_mask'\u001b[0m\u001b[0;34m)\u001b[0m\u001b[0;34m:\u001b[0m\u001b[0;34m\u001b[0m\u001b[0;34m\u001b[0m\u001b[0m\n",
            "\u001b[0;31mIndexError\u001b[0m: Inconsistent shape between the condition and the input (got (1600, 1) and (1600,))"
          ]
        }
      ]
    },
    {
      "cell_type": "code",
      "source": [
        "import os\n",
        "import zipfile\n",
        "from google.colab import drive\n",
        "import librosa\n",
        "import librosa.display\n",
        "import IPython.display as ipd\n",
        "import matplotlib.pyplot as plt\n",
        "import numpy as np\n",
        "import seaborn\n",
        "import tensorflow\n",
        "\n",
        "drive.mount('/content/drive')\n",
        "os.chdir('/content/drive/My Drive')\n",
        "os.chdir('/content/drive/My Drive/DATA')\n",
        "os.chdir('/content/drive/My Drive/DATA/training/au_secours')\n",
        "\n",
        "# Paramètres MFCC\n",
        "nmfcc = 32\n",
        "hop_length = 512\n",
        "\n",
        "# Liste pour stocker les MFCC de tous les fichiers audio\n",
        "mfccs = []\n",
        "i = 0\n",
        "label_0 = []\n",
        "label_1 = []\n",
        "label = []\n",
        "# Parcourir tous les fichiers audio du dossier\n",
        "for filename in os.listdir(os.curdir):\n",
        "\n",
        "    if filename.endswith('.wav'):\n",
        "\n",
        "        label_1.append(1)\n",
        "        # Charger le fichier audio\n",
        "        audio_path = os.path.join(os.curdir, filename)\n",
        "        audio, sr = librosa.load(audio_path)\n",
        "        # Extraire les MFCC\n",
        "        mfcc = librosa.feature.mfcc(y=audio, sr=sr, n_mfcc=nmfcc, hop_length=hop_length)\n",
        "        # Ajouter les MFCC à la liste\n",
        "        mfccs.append(mfcc)\n",
        "\n",
        "os.chdir('/content/drive/My Drive/DATA/training/noise')\n",
        "for filename in os.listdir(os.curdir):\n",
        "\n",
        "    if filename.endswith('.wav'):\n",
        "\n",
        "        label_0.append(0)\n",
        "        # Charger le fichier audio\n",
        "        audio_path = os.path.join(os.curdir, filename)\n",
        "        audio, sr = librosa.load(audio_path)\n",
        "        # Extraire les MFCC\n",
        "        mfcc = librosa.feature.mfcc(y=audio, sr=sr, n_mfcc=nmfcc, hop_length=hop_length)\n",
        "        # Ajouter les MFCC à la liste\n",
        "        mfccs.append(mfcc)\n",
        "# Convertir la liste en tableau Numpy\n",
        "label = label_1 + label_0\n",
        "\n",
        "mfccs = np.asarray(mfccs)\n",
        "label = np.asarray(label)\n",
        "\n",
        "model = tensorflow.keras.models.Sequential([\n",
        "    tensorflow.keras.layers.Conv2D(filters=32, kernel_size=(3,3), activation='relu', input_shape=(13,44,1)),\n",
        "    tensorflow.keras.layers.MaxPooling2D(pool_size=(2,2)),\n",
        "    tensorflow.keras.layers.Conv2D(filters=64, kernel_size=(3,3), activation='relu'),\n",
        "    tensorflow.keras.layers.MaxPooling2D(pool_size=(2,2)),\n",
        "    tensorflow.keras.layers.Flatten(),\n",
        "    tensorflow.keras.layers.Dense(units=128, activation='relu'),\n",
        "    tensorflow.keras.layers.Dense(units=1, activation='sigmoid')\n",
        "])\n",
        "model.compile(loss='binary_crossentropy', optimizer='adam', metrics=['accuracy'])\n",
        "model.fit(mfccs, label, epochs=10, batch_size=32)"
      ],
      "metadata": {
        "colab": {
          "base_uri": "https://localhost:8080/"
        },
        "id": "b_UKxgTMKd_c",
        "outputId": "529e1fec-6306-40fb-eaed-287034bc4768"
      },
      "execution_count": null,
      "outputs": [
        {
          "output_type": "stream",
          "name": "stdout",
          "text": [
            "Drive already mounted at /content/drive; to attempt to forcibly remount, call drive.mount(\"/content/drive\", force_remount=True).\n",
            "Epoch 1/10\n",
            "44/44 [==============================] - 2s 21ms/step - loss: 1.3828 - accuracy: 0.9199\n",
            "Epoch 2/10\n",
            "44/44 [==============================] - 1s 28ms/step - loss: 0.0574 - accuracy: 0.9907\n",
            "Epoch 3/10\n",
            "44/44 [==============================] - 2s 35ms/step - loss: 0.0042 - accuracy: 0.9986\n",
            "Epoch 4/10\n",
            "44/44 [==============================] - 1s 34ms/step - loss: 0.0072 - accuracy: 0.9971\n",
            "Epoch 5/10\n",
            "44/44 [==============================] - 1s 33ms/step - loss: 0.0158 - accuracy: 0.9943\n",
            "Epoch 6/10\n",
            "44/44 [==============================] - 1s 21ms/step - loss: 8.1264e-04 - accuracy: 0.9993\n",
            "Epoch 7/10\n",
            "44/44 [==============================] - 1s 20ms/step - loss: 2.3360e-05 - accuracy: 1.0000\n",
            "Epoch 8/10\n",
            "44/44 [==============================] - 1s 21ms/step - loss: 1.3904e-05 - accuracy: 1.0000\n",
            "Epoch 9/10\n",
            "44/44 [==============================] - 2s 35ms/step - loss: 1.1133e-05 - accuracy: 1.0000\n",
            "Epoch 10/10\n",
            "44/44 [==============================] - 2s 35ms/step - loss: 9.6521e-06 - accuracy: 1.0000\n"
          ]
        },
        {
          "output_type": "execute_result",
          "data": {
            "text/plain": [
              "<keras.callbacks.History at 0x7f4db626e040>"
            ]
          },
          "metadata": {},
          "execution_count": 80
        }
      ]
    },
    {
      "cell_type": "code",
      "source": [
        "mfccs = np.asarray(mfccs)\n",
        "label = np.asarray(label)\n",
        "print(mfccs.shape)\n",
        "print(label.shape)"
      ],
      "metadata": {
        "colab": {
          "base_uri": "https://localhost:8080/"
        },
        "id": "TbfZOs1DnR5O",
        "outputId": "05110f04-e1b3-4cba-89a2-efbde0c44509"
      },
      "execution_count": null,
      "outputs": [
        {
          "output_type": "stream",
          "name": "stdout",
          "text": [
            "(1398, 13, 44)\n",
            "(1398,)\n"
          ]
        }
      ]
    },
    {
      "cell_type": "code",
      "source": [
        "seaborn.heatmap(data=mfccs[0], cmap='coolwarm', xticklabels=False, yticklabels=False)\n",
        "plt.show()"
      ],
      "metadata": {
        "id": "zNxTmBL6NK5z",
        "colab": {
          "base_uri": "https://localhost:8080/",
          "height": 255
        },
        "outputId": "d104dbb0-9a64-40ac-ad0a-c88b763ca4eb"
      },
      "execution_count": null,
      "outputs": [
        {
          "output_type": "display_data",
          "data": {
            "text/plain": [
              "<Figure size 432x288 with 2 Axes>"
            ],
            "image/png": "[encoded data removed]"
          },
          "metadata": {
            "needs_background": "light"
          }
        }
      ]
    },
    {
      "cell_type": "code",
      "source": [
        "model = tensorflow.keras.models.Sequential([\n",
        "    tensorflow.keras.layers.Conv2D(filters=32, kernel_size=(3,3), activation='relu', input_shape=(13,44,1)),\n",
        "    tensorflow.keras.layers.MaxPooling2D(pool_size=(2,2)),\n",
        "    tensorflow.keras.layers.Conv2D(filters=64, kernel_size=(3,3), activation='relu'),\n",
        "    tensorflow.keras.layers.MaxPooling2D(pool_size=(2,2)),\n",
        "    tensorflow.keras.layers.Flatten(),\n",
        "    tensorflow.keras.layers.Dense(units=128, activation='relu'),\n",
        "    tensorflow.keras.layers.Dense(units=1, activation='sigmoid')\n",
        "])\n",
        "model.compile(loss='binary_crossentropy', optimizer='adam', metrics=['accuracy'])\n",
        "model.fit(mfccs, label, epochs=10, batch_size=32)"
      ],
      "metadata": {
        "colab": {
          "base_uri": "https://localhost:8080/"
        },
        "id": "RdWJ74Mrx2y5",
        "outputId": "895d1e79-8a96-49e9-c5e9-e90a9f2045f6"
      },
      "execution_count": null,
      "outputs": [
        {
          "output_type": "stream",
          "name": "stdout",
          "text": [
            "Epoch 1/10\n",
            "44/44 [==============================] - 2s 21ms/step - loss: 1.5205 - accuracy: 0.9235\n",
            "Epoch 2/10\n",
            "44/44 [==============================] - 1s 21ms/step - loss: 0.0324 - accuracy: 0.9943\n",
            "Epoch 3/10\n",
            "44/44 [==============================] - 1s 25ms/step - loss: 0.0085 - accuracy: 0.9971\n",
            "Epoch 4/10\n",
            "44/44 [==============================] - 1s 32ms/step - loss: 0.0097 - accuracy: 0.9971\n",
            "Epoch 5/10\n",
            "44/44 [==============================] - 1s 22ms/step - loss: 0.0022 - accuracy: 0.9993\n",
            "Epoch 6/10\n",
            "44/44 [==============================] - 1s 21ms/step - loss: 5.1763e-04 - accuracy: 1.0000\n",
            "Epoch 7/10\n",
            "44/44 [==============================] - 1s 20ms/step - loss: 1.8047e-04 - accuracy: 1.0000\n",
            "Epoch 8/10\n",
            "44/44 [==============================] - 1s 20ms/step - loss: 1.1977e-04 - accuracy: 1.0000\n",
            "Epoch 9/10\n",
            "44/44 [==============================] - 1s 20ms/step - loss: 9.5970e-05 - accuracy: 1.0000\n",
            "Epoch 10/10\n",
            "44/44 [==============================] - 1s 29ms/step - loss: 8.3491e-05 - accuracy: 1.0000\n"
          ]
        },
        {
          "output_type": "execute_result",
          "data": {
            "text/plain": [
              "<keras.callbacks.History at 0x7f4e1acf3580>"
            ]
          },
          "metadata": {},
          "execution_count": 55
        }
      ]
    },
    {
      "cell_type": "code",
      "source": [
        "model.save('kws_model2.h5')"
      ],
      "metadata": {
        "id": "VPGORnjh0N0F"
      },
      "execution_count": null,
      "outputs": []
    },
    {
      "cell_type": "code",
      "source": [
        "model = tensorflow.keras.models.load_model('kws_model2.h5')\n",
        "\n",
        "# Charger le fichier audio\n",
        "audio_file_bon = '/content/drive/MyDrive/DATA/testing/au_secours_test.wav'\n",
        "audio_file_mauvais ='/content/drive/MyDrive/DATA/testing/unknown.1ed0b13d_nohash_1.wav.3rugckda.ingestion-5877979785-4ctzf.wav'\n",
        "samples1, sample_rate1 = librosa.load(audio_file_bon)\n",
        "samples2, sample_rate2 = librosa.load(audio_file_mauvais)\n",
        "\n",
        "# Extraire les caractéristiques MFCC\n",
        "mfccs_bon = librosa.feature.mfcc(y=samples1, sr=22050, n_mfcc=13)\n",
        "mfccs_mauvais = librosa.feature.mfcc(y=samples2, sr=22050, n_mfcc=13)\n",
        "\n",
        "\n",
        "mfccs_bon_reshaped = np.reshape(mfccs_bon, (13, 44, 1))\n",
        "mfccs_mauvais_reshaped = np.reshape(mfccs_mauvais, (13, 44, 1))\n",
        "\n",
        "\n",
        "# Prédire le mot-clé\n",
        "prediction_bon = model.predict(np.array([mfccs_bon_reshaped]))\n",
        "prediction_mauvais = model.predict(np.array([mfccs_mauvais_reshaped]))\n",
        "\n",
        "mfccs_plot =np.squeeze(np.array([mfccs_bon_reshaped]))\n",
        "print(mfccs_plot.shape)\n",
        "\n",
        "\n",
        "seaborn.heatmap(data=mfccs_plot, cmap='coolwarm', xticklabels=False, yticklabels=False)\n",
        "print(f\"prediction bon : {prediction_bon}\")\n",
        "plt.show()\n",
        "seaborn.heatmap(data=mfccs_mauvais, cmap='coolwarm', xticklabels=False, yticklabels=False)\n",
        "print(f\"prediction mauvais : {prediction_mauvais}\")\n"
      ],
      "metadata": {
        "colab": {
          "base_uri": "https://localhost:8080/",
          "height": 577
        },
        "id": "9eoBGMTb0iwT",
        "outputId": "f5775c90-0e6c-415b-82d3-490652739e4e"
      },
      "execution_count": null,
      "outputs": [
        {
          "output_type": "stream",
          "name": "stdout",
          "text": [
            "1/1 [==============================] - 0s 174ms/step\n",
            "1/1 [==============================] - 0s 62ms/step\n",
            "(13, 44)\n",
            "prediction bon : [[0.00098328]]\n"
          ]
        },
        {
          "output_type": "display_data",
          "data": {
            "text/plain": [
              "<Figure size 432x288 with 2 Axes>"
            ],
            "image/png": "[encoded data removed]"
          },
          "metadata": {
            "needs_background": "light"
          }
        },
        {
          "output_type": "stream",
          "name": "stdout",
          "text": [
            "prediction mauvais : [[0.41183206]]\n"
          ]
        },
        {
          "output_type": "display_data",
          "data": {
            "text/plain": [
              "<Figure size 432x288 with 2 Axes>"
            ],
            "image/png": "[encoded data removed]"
          },
          "metadata": {
            "needs_background": "light"
          }
        }
      ]
    }
  ]
}