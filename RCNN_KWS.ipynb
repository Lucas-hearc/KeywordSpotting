{
  "nbformat": 4,
  "nbformat_minor": 0,
  "metadata": {
    "colab": {
      "provenance": [],
      "name": "RCNN_KWS.ipynb",
      "authorship_tag": "ABX9TyNRYFXFo+eMsoq/QNdMG3hG",
      "include_colab_link": true
    },
    "kernelspec": {
      "name": "python3",
      "display_name": "Python 3"
    },
    "language_info": {
      "name": "python"
    }
  },
  "cells": [
    {
      "cell_type": "markdown",
      "metadata": {
        "id": "view-in-github",
        "colab_type": "text"
      },
      "source": [
        "<a href=\"https://colab.research.google.com/github/Lucas-hearc/KeywordSpotting/blob/main/RCNN_KWS.ipynb\" target=\"_parent\"><img src=\"https://colab.research.google.com/assets/colab-badge.svg\" alt=\"Open In Colab\"/></a>"
      ]
    },
    {
      "cell_type": "code",
      "execution_count": null,
      "metadata": {
        "id": "y_19dBueGd32"
      },
      "outputs": [],
      "source": [
        "!pip install librosa\n",
        "!pip install numpy\n",
        "!pip install matplotlib\n",
        "!pip install tensorflow"
      ]
    },
    {
      "cell_type": "code",
      "source": [
        "import os\n",
        "import zipfile\n",
        "from google.colab import drive\n",
        "import librosa\n",
        "import librosa.display\n",
        "import IPython.display as ipd\n",
        "import matplotlib.pyplot as plt\n",
        "import numpy as np\n",
        "import seaborn\n",
        "import tensorflow\n",
        "\n",
        "drive.mount('/content/drive')\n",
        "os.chdir('/content/drive/My Drive')\n",
        "os.chdir('/content/drive/My Drive/DATA')"
      ],
      "metadata": {
        "colab": {
          "base_uri": "https://localhost:8080/"
        },
        "id": "9qhe-1blIJ2w",
        "outputId": "5b56f47d-993b-4857-a314-920b458c42c5"
      },
      "execution_count": 2,
      "outputs": [
        {
          "output_type": "stream",
          "name": "stdout",
          "text": [
            "Mounted at /content/drive\n"
          ]
        }
      ]
    },
    {
      "cell_type": "code",
      "source": [
        "%cd content/"
      ],
      "metadata": {
        "colab": {
          "base_uri": "https://localhost:8080/"
        },
        "id": "64S2MtqfIVgQ",
        "outputId": "bea18708-754b-49a1-99ea-580829b2a1a1"
      },
      "execution_count": 3,
      "outputs": [
        {
          "output_type": "stream",
          "name": "stdout",
          "text": [
            "[Errno 2] No such file or directory: 'content/'\n",
            "/content\n"
          ]
        }
      ]
    },
    {
      "cell_type": "code",
      "source": [
        "x1 = np.load('content/X_split_test.npy')\n",
        "x2 = np.load('content/X_split_train.npy')\n",
        "t1=np.shape(x1)\n",
        "t2=np.shape(x2)\n",
        "\n",
        "print(np.shape(x1[1]))"
      ],
      "metadata": {
        "colab": {
          "base_uri": "https://localhost:8080/"
        },
        "id": "HONqN9eucdrE",
        "outputId": "14dac8fd-afbf-4f37-8f72-f44a30329404"
      },
      "execution_count": 92,
      "outputs": [
        {
          "output_type": "stream",
          "name": "stdout",
          "text": [
            "(1600,)\n"
          ]
        }
      ]
    },
    {
      "cell_type": "code",
      "source": [
        "%cd  .."
      ],
      "metadata": {
        "colab": {
          "base_uri": "https://localhost:8080/"
        },
        "id": "xcgucAZLqmz8",
        "outputId": "53801144-516b-41e3-e42b-6f4680bff068"
      },
      "execution_count": 7,
      "outputs": [
        {
          "output_type": "stream",
          "name": "stdout",
          "text": [
            "/\n"
          ]
        }
      ]
    },
    {
      "cell_type": "code",
      "source": [
        "%cd content/drive/MyDrive/DATA/data/data/training/"
      ],
      "metadata": {
        "colab": {
          "base_uri": "https://localhost:8080/"
        },
        "id": "fQcbB8P-plst",
        "outputId": "e384c1b2-8bcb-4ad1-fa9a-2d72ec723fe3"
      },
      "execution_count": 41,
      "outputs": [
        {
          "output_type": "stream",
          "name": "stdout",
          "text": [
            "/content/drive/MyDrive\n"
          ]
        }
      ]
    },
    {
      "cell_type": "code",
      "source": [
        "!pip install --user git+https://github.com/python/processing.git\n"
      ],
      "metadata": {
        "colab": {
          "base_uri": "https://localhost:8080/"
        },
        "id": "uDvxryCoPUav",
        "outputId": "e115d2ef-f2f5-4069-9ec7-1b4581bca8f2"
      },
      "execution_count": 40,
      "outputs": [
        {
          "output_type": "stream",
          "name": "stdout",
          "text": [
            "Collecting git+https://github.com/python/processing.git\n",
            "  Cloning https://github.com/python/processing.git to /tmp/pip-req-build-gnh500te\n",
            "  Running command git clone --filter=blob:none --quiet https://github.com/python/processing.git /tmp/pip-req-build-gnh500te\n",
            "  fatal: could not read Username for 'https://github.com': No such device or address\n",
            "  \u001b[1;31merror\u001b[0m: \u001b[1msubprocess-exited-with-error\u001b[0m\n",
            "  \n",
            "  \u001b[31m×\u001b[0m \u001b[32mgit clone --\u001b[0m\u001b[32mfilter\u001b[0m\u001b[32m=\u001b[0m\u001b[32mblob\u001b[0m\u001b[32m:none --quiet \u001b[0m\u001b[4;32mhttps://github.com/python/processing.git\u001b[0m\u001b[32m \u001b[0m\u001b[32m/tmp/\u001b[0m\u001b[32mpip-req-build-gnh500te\u001b[0m did not run successfully.\n",
            "  \u001b[31m│\u001b[0m exit code: \u001b[1;36m128\u001b[0m\n",
            "  \u001b[31m╰─>\u001b[0m See above for output.\n",
            "  \n",
            "  \u001b[1;35mnote\u001b[0m: This error originates from a subprocess, and is likely not a problem with pip.\n",
            "\u001b[1;31merror\u001b[0m: \u001b[1msubprocess-exited-with-error\u001b[0m\n",
            "\n",
            "\u001b[31m×\u001b[0m \u001b[32mgit clone --\u001b[0m\u001b[32mfilter\u001b[0m\u001b[32m=\u001b[0m\u001b[32mblob\u001b[0m\u001b[32m:none --quiet \u001b[0m\u001b[4;32mhttps://github.com/python/processing.git\u001b[0m\u001b[32m \u001b[0m\u001b[32m/tmp/\u001b[0m\u001b[32mpip-req-build-gnh500te\u001b[0m did not run successfully.\n",
            "\u001b[31m│\u001b[0m exit code: \u001b[1;36m128\u001b[0m\n",
            "\u001b[31m╰─>\u001b[0m See above for output.\n",
            "\n",
            "\u001b[1;35mnote\u001b[0m: This error originates from a subprocess, and is likely not a problem with pip.\n"
          ]
        }
      ]
    },
    {
      "cell_type": "code",
      "source": [
        "import os\n",
        "import librosa\n",
        "import numpy as np\n",
        "import sys\n",
        "sys.path.append('/content/drive/MyDrive/DATA/data/data/code')\n",
        "import functions\n",
        "import feature\n",
        "import processing\n",
        "\n",
        "\n",
        "\n",
        "audioFile = '/content/drive/MyDrive/DATA/data/data/testing/parole/Parole.unknown.40foevmq.ingestion-dffd874c6-lzqhq.s56.wav'\n",
        "\n",
        "# Paramètres MFCC\n",
        "nmfcc = 32\n",
        "frame_length = 0.02\n",
        "frame_stride = 0.02\n",
        "filter_number = 32\n",
        "fft_length = 256\n",
        "normalization_window_size = 101\n",
        "\n",
        "audio, sr = librosa.load(audioFile)\n",
        "\n",
        "mfcc = feature.mfcc(audio,\n",
        "        sr,\n",
        "        1,\n",
        "        frame_length=frame_length,\n",
        "        frame_stride=frame_stride,\n",
        "        num_cepstral=nmfcc,\n",
        "        num_filters=filter_number,\n",
        "        fft_length=fft_length,\n",
        "        low_frequency=0,\n",
        "        high_frequency=None,\n",
        "        dc_elimination=True,\n",
        "        use_old_mels=False)\n",
        "\n",
        "# Tracer la heatmap\n",
        "plt.figure(figsize=(10, 6))\n",
        "seaborn.heatmap(data=mfcc, cmap='coolwarm', xticklabels=False, yticklabels=False)\n",
        "\n",
        "# Ajouter les titres des axes\n",
        "plt.xlabel('MFCC Coefficients')\n",
        "plt.ylabel('Time')\n",
        "\n",
        "# Afficher le tracé\n",
        "plt.show()\n",
        "\n",
        "\n"
      ],
      "metadata": {
        "colab": {
          "base_uri": "https://localhost:8080/",
          "height": 518
        },
        "id": "_bi-kbisbO05",
        "outputId": "d636cd26-c826-4e42-e0c3-cadcf23765ca"
      },
      "execution_count": 58,
      "outputs": [
        {
          "output_type": "display_data",
          "data": {
            "text/plain": [
              "<Figure size 1000x600 with 2 Axes>"
            ],
            "image/png": "[encoded data removed]"
          },
          "metadata": {}
        }
      ]
    },
    {
      "cell_type": "code",
      "source": [
        "import os\n",
        "import librosa\n",
        "import numpy as np\n",
        "import tensorflow as tf\n",
        "from tensorflow.keras.models import Sequential\n",
        "from tensorflow.keras.layers import Dense, Reshape, Conv2D, MaxPooling2D, Dropout, Flatten\n",
        "\n",
        "# Paramètres MFCC\n",
        "nmfcc = 32\n",
        "frame_length = 0.02\n",
        "frame_stride = 0.02\n",
        "filter_number = 32\n",
        "fft_length = 256\n",
        "normalization_window_size = 101\n",
        "\n",
        "# Liste pour stocker les MFCC de tous les fichiers audio\n",
        "mfccs = []\n",
        "labels = []\n",
        "\n",
        "audioFolder = 'content/drive/MyDrive/DATA/data/data/training/detresse/'\n",
        "\n",
        "# Parcourir tous les fichiers audio du dossier\n",
        "for filename in os.listdir(audioFolder):\n",
        "    if filename.endswith('.wav'):\n",
        "        # Charger le fichier audio\n",
        "        audio_path = os.path.join(audioFolder, filename)\n",
        "        audio, sr = librosa.load(audio_path)\n",
        "        # Extraire les MFCC\n",
        "        mfcc = librosa.feature.mfcc(\n",
        "            y=audio,\n",
        "            sr=sr,\n",
        "            n_mfcc=nmfcc,\n",
        "            hop_length=int(sr * frame_stride),\n",
        "            n_fft=int(sr * frame_length),\n",
        "            n_mels=filter_number,\n",
        "            win_length=int(sr * frame_length),\n",
        "            center=False,\n",
        "            htk=True,\n",
        "            norm=None,\n",
        "            window='hann'\n",
        "        )\n",
        "        # Ajouter les MFCC à la liste\n",
        "        mfcc = np.ravel(mfcc)\n",
        "        mfccs.append(mfcc)\n",
        "        labels.append([1,0])\n",
        "\n",
        "\n",
        "audioFolder = 'content/drive/MyDrive/DATA/data/data/testing/parole/'\n",
        "for filename in os.listdir(audioFolder):\n",
        "    if filename.endswith('.wav'):\n",
        "        # Charger le fichier audio\n",
        "        audio_path = os.path.join(audioFolder, filename)\n",
        "        audio, sr = librosa.load(audio_path)\n",
        "        # Extraire les MFCC\n",
        "        mfcc = librosa.feature.mfcc(\n",
        "            y=audio,\n",
        "            sr=sr,\n",
        "            n_mfcc=nmfcc,\n",
        "            hop_length=int(sr * frame_stride),\n",
        "            n_fft=int(sr * frame_length),\n",
        "            n_mels=filter_number,\n",
        "            win_length=int(sr * frame_length),\n",
        "            center=False,\n",
        "            htk=True,\n",
        "            norm=None,\n",
        "            window='hann'\n",
        "        )\n",
        "        # Ajouter les MFCC à la liste\n",
        "        mfcc = np.ravel(mfcc)\n",
        "        mfccs.append(mfcc)\n",
        "        labels.append([0,1])\n",
        "\n",
        "# Convertir les listes en tableaux numpy 2D\n",
        "X_train = np.vstack(mfccs)\n",
        "Y_train = np.array(labels)\n",
        "\n",
        "print(np.shape(Y_train))\n",
        "\n",
        "######################################## TESTING ######################################\n",
        "\n",
        "mfccs_test = []\n",
        "labels_test = []\n",
        "\n",
        "audioFolder = 'content/drive/MyDrive/DATA/data/data/testing/parole/'\n",
        "for filename in os.listdir(audioFolder):\n",
        "    if filename.endswith('.wav'):\n",
        "        # Charger le fichier audio\n",
        "        audio_path = os.path.join(audioFolder, filename)\n",
        "        audio, sr = librosa.load(audio_path)\n",
        "        # Extraire les MFCC\n",
        "        mfcc = librosa.feature.mfcc(\n",
        "            y=audio,\n",
        "            sr=sr,\n",
        "            n_mfcc=nmfcc,\n",
        "            hop_length=int(sr * frame_stride),\n",
        "            n_fft=int(sr * frame_length),\n",
        "            n_mels=filter_number,\n",
        "            win_length=int(sr * frame_length),\n",
        "            center=False,\n",
        "            htk=True,\n",
        "            norm=None,\n",
        "            window='hann'\n",
        "        )\n",
        "        # Ajouter les MFCC à la liste\n",
        "        mfcc = np.ravel(mfcc)\n",
        "        mfccs_test.append(mfcc)\n",
        "        labels_test.append([0,1])\n",
        "\n",
        "audioFolder = 'content/drive/MyDrive/DATA/data/data/training/parole/'\n",
        "for filename in os.listdir(audioFolder):\n",
        "    if filename.endswith('.wav'):\n",
        "        # Charger le fichier audio\n",
        "        audio_path = os.path.join(audioFolder, filename)\n",
        "        audio, sr = librosa.load(audio_path)\n",
        "        # Extraire les MFCC\n",
        "        mfcc = librosa.feature.mfcc(\n",
        "            y=audio,\n",
        "            sr=sr,\n",
        "            n_mfcc=nmfcc,\n",
        "            hop_length=int(sr * frame_stride),\n",
        "            n_fft=int(sr * frame_length),\n",
        "            n_mels=filter_number,\n",
        "            win_length=int(sr * frame_length),\n",
        "            center=False,\n",
        "            htk=True,\n",
        "            norm=None,\n",
        "            window='hann'\n",
        "        )\n",
        "        # Ajouter les MFCC à la liste\n",
        "        mfcc = np.ravel(mfcc)\n",
        "        mfccs_test.append(mfcc)\n",
        "        labels_test.append([1,0])\n",
        "\n",
        "# Convertir les listes en tableaux numpy 2D\n",
        "X_test = np.vstack(mfccs_test)\n",
        "Y_test = np.array(labels_test)\n",
        "\n",
        "# Mélanger les données d'entraînement\n",
        "indices = np.arange(X_train.shape[0])\n",
        "np.random.shuffle(indices)\n",
        "X_train = X_train[indices]\n",
        "Y_train = Y_train[indices]\n",
        "\n",
        "indices = np.arange(X_test.shape[0])\n",
        "np.random.shuffle(indices)\n",
        "X_test = X_test[indices]\n",
        "Y_test = Y_test[indices]\n",
        "\n",
        "\n",
        "model = Sequential()\n",
        "model.add(Reshape((25, 64, 1), input_shape=input_shape))\n",
        "model.add(Conv2D(8, kernel_size=3, padding='same', activation='relu'))\n",
        "model.add(MaxPooling2D(pool_size=2, strides=2, padding='same'))\n",
        "model.add(Dropout(0.5))\n",
        "model.add(Conv2D(16, kernel_size=3, padding='same', activation='relu'))\n",
        "model.add(MaxPooling2D(pool_size=2, strides=2, padding='same'))\n",
        "model.add(Dropout(0.5))\n",
        "model.add(Flatten())\n",
        "model.add(Dense(2, activation='softmax'))\n",
        "\n",
        "# Définition de l'optimiseur et de la fonction de perte\n",
        "optimizer = tf.keras.optimizers.Adam(learning_rate=0.005)\n",
        "loss = tf.keras.losses.CategoricalCrossentropy()\n",
        "\n",
        "# Compilation du modèle\n",
        "model.compile(optimizer=optimizer, loss=loss, metrics=['accuracy'])\n",
        "\n",
        "# Entraînement du modèle\n",
        "model.fit(X_train, Y_train, epochs=100, batch_size=32, validation_data=(X_test, Y_test), verbose=2)\n",
        "\n"
      ],
      "metadata": {
        "colab": {
          "base_uri": "https://localhost:8080/"
        },
        "outputId": "5c4f7e5d-e9eb-47a2-c62f-5529c53db932",
        "id": "4esG1HTaceBc"
      },
      "execution_count": 62,
      "outputs": [
        {
          "output_type": "stream",
          "name": "stdout",
          "text": [
            "(216, 2)\n",
            "Epoch 1/100\n",
            "7/7 - 1s - loss: 185.5217 - accuracy: 0.7407 - val_loss: 66.9784 - val_accuracy: 0.7912 - 1s/epoch - 214ms/step\n",
            "Epoch 2/100\n",
            "7/7 - 0s - loss: 109.7620 - accuracy: 0.6019 - val_loss: 51.6521 - val_accuracy: 0.7912 - 307ms/epoch - 44ms/step\n",
            "Epoch 3/100\n",
            "7/7 - 0s - loss: 76.3833 - accuracy: 0.8102 - val_loss: 9.2814 - val_accuracy: 0.7857 - 318ms/epoch - 45ms/step\n",
            "Epoch 4/100\n",
            "7/7 - 0s - loss: 26.6425 - accuracy: 0.6528 - val_loss: 11.4214 - val_accuracy: 0.2967 - 311ms/epoch - 44ms/step\n",
            "Epoch 5/100\n",
            "7/7 - 0s - loss: 16.5914 - accuracy: 0.6019 - val_loss: 1.4163 - val_accuracy: 0.7802 - 288ms/epoch - 41ms/step\n",
            "Epoch 6/100\n",
            "7/7 - 0s - loss: 8.4330 - accuracy: 0.7963 - val_loss: 0.8978 - val_accuracy: 0.7747 - 379ms/epoch - 54ms/step\n",
            "Epoch 7/100\n",
            "7/7 - 0s - loss: 6.1858 - accuracy: 0.8102 - val_loss: 0.7212 - val_accuracy: 0.5604 - 378ms/epoch - 54ms/step\n",
            "Epoch 8/100\n",
            "7/7 - 0s - loss: 5.3938 - accuracy: 0.7500 - val_loss: 0.8263 - val_accuracy: 0.3187 - 288ms/epoch - 41ms/step\n",
            "Epoch 9/100\n",
            "7/7 - 0s - loss: 3.6558 - accuracy: 0.7130 - val_loss: 0.8120 - val_accuracy: 0.2747 - 313ms/epoch - 45ms/step\n",
            "Epoch 10/100\n",
            "7/7 - 0s - loss: 2.3975 - accuracy: 0.7269 - val_loss: 0.7859 - val_accuracy: 0.2747 - 295ms/epoch - 42ms/step\n",
            "Epoch 11/100\n",
            "7/7 - 0s - loss: 2.2686 - accuracy: 0.6574 - val_loss: 0.7648 - val_accuracy: 0.2967 - 291ms/epoch - 42ms/step\n",
            "Epoch 12/100\n",
            "7/7 - 0s - loss: 1.9954 - accuracy: 0.6759 - val_loss: 0.7371 - val_accuracy: 0.4286 - 369ms/epoch - 53ms/step\n",
            "Epoch 13/100\n",
            "7/7 - 0s - loss: 1.9133 - accuracy: 0.7407 - val_loss: 0.7161 - val_accuracy: 0.5220 - 288ms/epoch - 41ms/step\n",
            "Epoch 14/100\n",
            "7/7 - 0s - loss: 1.5574 - accuracy: 0.7361 - val_loss: 0.7042 - val_accuracy: 0.5549 - 299ms/epoch - 43ms/step\n",
            "Epoch 15/100\n",
            "7/7 - 0s - loss: 1.3344 - accuracy: 0.7037 - val_loss: 0.6934 - val_accuracy: 0.6264 - 292ms/epoch - 42ms/step\n",
            "Epoch 16/100\n",
            "7/7 - 0s - loss: 1.1116 - accuracy: 0.7269 - val_loss: 0.6850 - val_accuracy: 0.6923 - 295ms/epoch - 42ms/step\n",
            "Epoch 17/100\n",
            "7/7 - 0s - loss: 1.1730 - accuracy: 0.6944 - val_loss: 0.6759 - val_accuracy: 0.7198 - 308ms/epoch - 44ms/step\n",
            "Epoch 18/100\n",
            "7/7 - 0s - loss: 0.9124 - accuracy: 0.7454 - val_loss: 0.6673 - val_accuracy: 0.7582 - 359ms/epoch - 51ms/step\n",
            "Epoch 19/100\n",
            "7/7 - 0s - loss: 1.0474 - accuracy: 0.7454 - val_loss: 0.6568 - val_accuracy: 0.7692 - 298ms/epoch - 43ms/step\n",
            "Epoch 20/100\n",
            "7/7 - 0s - loss: 0.6915 - accuracy: 0.7639 - val_loss: 0.6465 - val_accuracy: 0.7747 - 290ms/epoch - 41ms/step\n",
            "Epoch 21/100\n",
            "7/7 - 0s - loss: 0.7885 - accuracy: 0.7500 - val_loss: 0.6391 - val_accuracy: 0.7802 - 285ms/epoch - 41ms/step\n",
            "Epoch 22/100\n",
            "7/7 - 0s - loss: 0.8177 - accuracy: 0.7500 - val_loss: 0.6321 - val_accuracy: 0.7857 - 311ms/epoch - 44ms/step\n",
            "Epoch 23/100\n",
            "7/7 - 0s - loss: 0.7340 - accuracy: 0.7269 - val_loss: 0.6241 - val_accuracy: 0.7912 - 291ms/epoch - 42ms/step\n",
            "Epoch 24/100\n",
            "7/7 - 0s - loss: 0.9709 - accuracy: 0.6852 - val_loss: 0.6133 - val_accuracy: 0.7912 - 379ms/epoch - 54ms/step\n",
            "Epoch 25/100\n",
            "7/7 - 0s - loss: 0.6518 - accuracy: 0.7361 - val_loss: 0.6029 - val_accuracy: 0.7912 - 312ms/epoch - 45ms/step\n",
            "Epoch 26/100\n",
            "7/7 - 0s - loss: 0.9237 - accuracy: 0.7454 - val_loss: 0.5949 - val_accuracy: 0.7912 - 481ms/epoch - 69ms/step\n",
            "Epoch 27/100\n",
            "7/7 - 1s - loss: 0.6778 - accuracy: 0.7731 - val_loss: 0.5873 - val_accuracy: 0.7912 - 523ms/epoch - 75ms/step\n",
            "Epoch 28/100\n",
            "7/7 - 1s - loss: 0.6582 - accuracy: 0.7639 - val_loss: 0.5814 - val_accuracy: 0.7912 - 539ms/epoch - 77ms/step\n",
            "Epoch 29/100\n",
            "7/7 - 1s - loss: 0.6375 - accuracy: 0.7870 - val_loss: 0.5777 - val_accuracy: 0.7912 - 542ms/epoch - 77ms/step\n",
            "Epoch 30/100\n",
            "7/7 - 1s - loss: 0.5196 - accuracy: 0.8102 - val_loss: 0.5746 - val_accuracy: 0.7912 - 536ms/epoch - 77ms/step\n",
            "Epoch 31/100\n",
            "7/7 - 1s - loss: 0.5661 - accuracy: 0.7778 - val_loss: 0.5708 - val_accuracy: 0.7912 - 507ms/epoch - 72ms/step\n",
            "Epoch 32/100\n",
            "7/7 - 1s - loss: 0.5954 - accuracy: 0.7963 - val_loss: 0.5673 - val_accuracy: 0.7912 - 538ms/epoch - 77ms/step\n",
            "Epoch 33/100\n",
            "7/7 - 1s - loss: 0.5577 - accuracy: 0.7731 - val_loss: 0.5645 - val_accuracy: 0.7912 - 509ms/epoch - 73ms/step\n",
            "Epoch 34/100\n",
            "7/7 - 1s - loss: 0.5456 - accuracy: 0.8056 - val_loss: 0.5613 - val_accuracy: 0.7912 - 504ms/epoch - 72ms/step\n",
            "Epoch 35/100\n",
            "7/7 - 0s - loss: 0.5887 - accuracy: 0.7778 - val_loss: 0.5570 - val_accuracy: 0.7912 - 361ms/epoch - 52ms/step\n",
            "Epoch 36/100\n",
            "7/7 - 0s - loss: 0.5724 - accuracy: 0.7685 - val_loss: 0.5529 - val_accuracy: 0.7912 - 308ms/epoch - 44ms/step\n",
            "Epoch 37/100\n",
            "7/7 - 0s - loss: 0.4981 - accuracy: 0.8056 - val_loss: 0.5488 - val_accuracy: 0.7912 - 307ms/epoch - 44ms/step\n",
            "Epoch 38/100\n",
            "7/7 - 0s - loss: 0.5109 - accuracy: 0.8148 - val_loss: 0.5456 - val_accuracy: 0.7912 - 376ms/epoch - 54ms/step\n",
            "Epoch 39/100\n",
            "7/7 - 0s - loss: 0.4776 - accuracy: 0.8056 - val_loss: 0.5439 - val_accuracy: 0.7912 - 311ms/epoch - 44ms/step\n",
            "Epoch 40/100\n",
            "7/7 - 0s - loss: 0.4703 - accuracy: 0.7824 - val_loss: 0.5417 - val_accuracy: 0.7912 - 312ms/epoch - 45ms/step\n",
            "Epoch 41/100\n",
            "7/7 - 0s - loss: 0.4760 - accuracy: 0.8333 - val_loss: 0.5392 - val_accuracy: 0.7912 - 306ms/epoch - 44ms/step\n",
            "Epoch 42/100\n",
            "7/7 - 0s - loss: 0.5675 - accuracy: 0.8102 - val_loss: 0.5380 - val_accuracy: 0.7912 - 300ms/epoch - 43ms/step\n",
            "Epoch 43/100\n",
            "7/7 - 0s - loss: 0.4892 - accuracy: 0.7917 - val_loss: 0.5365 - val_accuracy: 0.7912 - 389ms/epoch - 56ms/step\n",
            "Epoch 44/100\n",
            "7/7 - 0s - loss: 0.5026 - accuracy: 0.8287 - val_loss: 0.5347 - val_accuracy: 0.7912 - 289ms/epoch - 41ms/step\n",
            "Epoch 45/100\n",
            "7/7 - 0s - loss: 0.5097 - accuracy: 0.8148 - val_loss: 0.5328 - val_accuracy: 0.7912 - 307ms/epoch - 44ms/step\n",
            "Epoch 46/100\n",
            "7/7 - 0s - loss: 0.5161 - accuracy: 0.8056 - val_loss: 0.5314 - val_accuracy: 0.7912 - 299ms/epoch - 43ms/step\n",
            "Epoch 47/100\n",
            "7/7 - 0s - loss: 0.5441 - accuracy: 0.7963 - val_loss: 0.5304 - val_accuracy: 0.7912 - 289ms/epoch - 41ms/step\n",
            "Epoch 48/100\n",
            "7/7 - 0s - loss: 0.5276 - accuracy: 0.8241 - val_loss: 0.5294 - val_accuracy: 0.7912 - 382ms/epoch - 55ms/step\n",
            "Epoch 49/100\n",
            "7/7 - 0s - loss: 0.5124 - accuracy: 0.8056 - val_loss: 0.5287 - val_accuracy: 0.7912 - 291ms/epoch - 42ms/step\n",
            "Epoch 50/100\n",
            "7/7 - 0s - loss: 0.4609 - accuracy: 0.8056 - val_loss: 0.5280 - val_accuracy: 0.7912 - 293ms/epoch - 42ms/step\n",
            "Epoch 51/100\n",
            "7/7 - 0s - loss: 0.4672 - accuracy: 0.8056 - val_loss: 0.5273 - val_accuracy: 0.7912 - 315ms/epoch - 45ms/step\n",
            "Epoch 52/100\n",
            "7/7 - 0s - loss: 0.4188 - accuracy: 0.8102 - val_loss: 0.5265 - val_accuracy: 0.7912 - 297ms/epoch - 42ms/step\n",
            "Epoch 53/100\n",
            "7/7 - 0s - loss: 0.5046 - accuracy: 0.8148 - val_loss: 0.5262 - val_accuracy: 0.7912 - 294ms/epoch - 42ms/step\n",
            "Epoch 54/100\n",
            "7/7 - 0s - loss: 0.4532 - accuracy: 0.8194 - val_loss: 0.5265 - val_accuracy: 0.7912 - 365ms/epoch - 52ms/step\n",
            "Epoch 55/100\n",
            "7/7 - 0s - loss: 0.5347 - accuracy: 0.8241 - val_loss: 0.5270 - val_accuracy: 0.7912 - 288ms/epoch - 41ms/step\n",
            "Epoch 56/100\n",
            "7/7 - 0s - loss: 0.4894 - accuracy: 0.8148 - val_loss: 0.5268 - val_accuracy: 0.7912 - 377ms/epoch - 54ms/step\n",
            "Epoch 57/100\n",
            "7/7 - 0s - loss: 0.4718 - accuracy: 0.8148 - val_loss: 0.5254 - val_accuracy: 0.7912 - 300ms/epoch - 43ms/step\n",
            "Epoch 58/100\n",
            "7/7 - 0s - loss: 0.4742 - accuracy: 0.8194 - val_loss: 0.5247 - val_accuracy: 0.7912 - 371ms/epoch - 53ms/step\n",
            "Epoch 59/100\n",
            "7/7 - 0s - loss: 0.5115 - accuracy: 0.8148 - val_loss: 0.5242 - val_accuracy: 0.7912 - 297ms/epoch - 42ms/step\n",
            "Epoch 60/100\n",
            "7/7 - 0s - loss: 0.4738 - accuracy: 0.8102 - val_loss: 0.5234 - val_accuracy: 0.7912 - 292ms/epoch - 42ms/step\n",
            "Epoch 61/100\n",
            "7/7 - 0s - loss: 0.4237 - accuracy: 0.8241 - val_loss: 0.5226 - val_accuracy: 0.7912 - 305ms/epoch - 44ms/step\n",
            "Epoch 62/100\n",
            "7/7 - 0s - loss: 0.4716 - accuracy: 0.8148 - val_loss: 0.5221 - val_accuracy: 0.7912 - 287ms/epoch - 41ms/step\n",
            "Epoch 63/100\n",
            "7/7 - 0s - loss: 0.5192 - accuracy: 0.8056 - val_loss: 0.5219 - val_accuracy: 0.7912 - 291ms/epoch - 42ms/step\n",
            "Epoch 64/100\n",
            "7/7 - 0s - loss: 0.4492 - accuracy: 0.8333 - val_loss: 0.5219 - val_accuracy: 0.7912 - 292ms/epoch - 42ms/step\n",
            "Epoch 65/100\n",
            "7/7 - 0s - loss: 0.4834 - accuracy: 0.8102 - val_loss: 0.5219 - val_accuracy: 0.7912 - 287ms/epoch - 41ms/step\n",
            "Epoch 66/100\n",
            "7/7 - 0s - loss: 0.4421 - accuracy: 0.8102 - val_loss: 0.5213 - val_accuracy: 0.7912 - 410ms/epoch - 59ms/step\n",
            "Epoch 67/100\n",
            "7/7 - 1s - loss: 0.4574 - accuracy: 0.8287 - val_loss: 0.5209 - val_accuracy: 0.7912 - 504ms/epoch - 72ms/step\n",
            "Epoch 68/100\n",
            "7/7 - 1s - loss: 0.4733 - accuracy: 0.8148 - val_loss: 0.5206 - val_accuracy: 0.7912 - 509ms/epoch - 73ms/step\n",
            "Epoch 69/100\n",
            "7/7 - 1s - loss: 0.4689 - accuracy: 0.8241 - val_loss: 0.5201 - val_accuracy: 0.7912 - 504ms/epoch - 72ms/step\n",
            "Epoch 70/100\n",
            "7/7 - 1s - loss: 0.4495 - accuracy: 0.8194 - val_loss: 0.5196 - val_accuracy: 0.7912 - 549ms/epoch - 78ms/step\n",
            "Epoch 71/100\n",
            "7/7 - 1s - loss: 0.5120 - accuracy: 0.8056 - val_loss: 0.5190 - val_accuracy: 0.7912 - 509ms/epoch - 73ms/step\n",
            "Epoch 72/100\n",
            "7/7 - 1s - loss: 0.4606 - accuracy: 0.8287 - val_loss: 0.5187 - val_accuracy: 0.7912 - 515ms/epoch - 74ms/step\n",
            "Epoch 73/100\n",
            "7/7 - 1s - loss: 0.4719 - accuracy: 0.8102 - val_loss: 0.5185 - val_accuracy: 0.7912 - 506ms/epoch - 72ms/step\n",
            "Epoch 74/100\n",
            "7/7 - 1s - loss: 0.4262 - accuracy: 0.8287 - val_loss: 0.5180 - val_accuracy: 0.7912 - 506ms/epoch - 72ms/step\n",
            "Epoch 75/100\n",
            "7/7 - 1s - loss: 0.4268 - accuracy: 0.8333 - val_loss: 0.5174 - val_accuracy: 0.7912 - 505ms/epoch - 72ms/step\n",
            "Epoch 76/100\n",
            "7/7 - 0s - loss: 0.4723 - accuracy: 0.8194 - val_loss: 0.5176 - val_accuracy: 0.7912 - 292ms/epoch - 42ms/step\n",
            "Epoch 77/100\n",
            "7/7 - 0s - loss: 0.4357 - accuracy: 0.8102 - val_loss: 0.5182 - val_accuracy: 0.7912 - 299ms/epoch - 43ms/step\n",
            "Epoch 78/100\n",
            "7/7 - 0s - loss: 0.4696 - accuracy: 0.8102 - val_loss: 0.5183 - val_accuracy: 0.7912 - 378ms/epoch - 54ms/step\n",
            "Epoch 79/100\n",
            "7/7 - 0s - loss: 0.4612 - accuracy: 0.8148 - val_loss: 0.5185 - val_accuracy: 0.7912 - 296ms/epoch - 42ms/step\n",
            "Epoch 80/100\n",
            "7/7 - 0s - loss: 0.4777 - accuracy: 0.8148 - val_loss: 0.5186 - val_accuracy: 0.7912 - 288ms/epoch - 41ms/step\n",
            "Epoch 81/100\n",
            "7/7 - 0s - loss: 0.4640 - accuracy: 0.8102 - val_loss: 0.5187 - val_accuracy: 0.7912 - 360ms/epoch - 51ms/step\n",
            "Epoch 82/100\n",
            "7/7 - 0s - loss: 0.4370 - accuracy: 0.8148 - val_loss: 0.5186 - val_accuracy: 0.7912 - 306ms/epoch - 44ms/step\n",
            "Epoch 83/100\n",
            "7/7 - 0s - loss: 0.4843 - accuracy: 0.8056 - val_loss: 0.5190 - val_accuracy: 0.7912 - 293ms/epoch - 42ms/step\n",
            "Epoch 84/100\n",
            "7/7 - 0s - loss: 0.4812 - accuracy: 0.8102 - val_loss: 0.5189 - val_accuracy: 0.7912 - 288ms/epoch - 41ms/step\n",
            "Epoch 85/100\n",
            "7/7 - 0s - loss: 0.4677 - accuracy: 0.8241 - val_loss: 0.5190 - val_accuracy: 0.7912 - 316ms/epoch - 45ms/step\n",
            "Epoch 86/100\n",
            "7/7 - 0s - loss: 0.4754 - accuracy: 0.8148 - val_loss: 0.5193 - val_accuracy: 0.7912 - 304ms/epoch - 43ms/step\n",
            "Epoch 87/100\n",
            "7/7 - 0s - loss: 0.4643 - accuracy: 0.8194 - val_loss: 0.5195 - val_accuracy: 0.7912 - 284ms/epoch - 41ms/step\n",
            "Epoch 88/100\n",
            "7/7 - 0s - loss: 0.5007 - accuracy: 0.8148 - val_loss: 0.5199 - val_accuracy: 0.7912 - 293ms/epoch - 42ms/step\n",
            "Epoch 89/100\n",
            "7/7 - 0s - loss: 0.4514 - accuracy: 0.8194 - val_loss: 0.5203 - val_accuracy: 0.7912 - 281ms/epoch - 40ms/step\n",
            "Epoch 90/100\n",
            "7/7 - 0s - loss: 0.5002 - accuracy: 0.8056 - val_loss: 0.5201 - val_accuracy: 0.7912 - 289ms/epoch - 41ms/step\n",
            "Epoch 91/100\n",
            "7/7 - 0s - loss: 0.4839 - accuracy: 0.8241 - val_loss: 0.5197 - val_accuracy: 0.7912 - 288ms/epoch - 41ms/step\n",
            "Epoch 92/100\n",
            "7/7 - 0s - loss: 0.4542 - accuracy: 0.8241 - val_loss: 0.5197 - val_accuracy: 0.7912 - 302ms/epoch - 43ms/step\n",
            "Epoch 93/100\n",
            "7/7 - 0s - loss: 0.5005 - accuracy: 0.8194 - val_loss: 0.5200 - val_accuracy: 0.7912 - 286ms/epoch - 41ms/step\n",
            "Epoch 94/100\n",
            "7/7 - 0s - loss: 0.4459 - accuracy: 0.8194 - val_loss: 0.5196 - val_accuracy: 0.7912 - 297ms/epoch - 42ms/step\n",
            "Epoch 95/100\n",
            "7/7 - 0s - loss: 0.4388 - accuracy: 0.8241 - val_loss: 0.5193 - val_accuracy: 0.7912 - 315ms/epoch - 45ms/step\n",
            "Epoch 96/100\n",
            "7/7 - 0s - loss: 0.4151 - accuracy: 0.8241 - val_loss: 0.5192 - val_accuracy: 0.7912 - 291ms/epoch - 42ms/step\n",
            "Epoch 97/100\n",
            "7/7 - 0s - loss: 0.5203 - accuracy: 0.8102 - val_loss: 0.5189 - val_accuracy: 0.7912 - 291ms/epoch - 42ms/step\n",
            "Epoch 98/100\n",
            "7/7 - 0s - loss: 0.5187 - accuracy: 0.8102 - val_loss: 0.5192 - val_accuracy: 0.7912 - 370ms/epoch - 53ms/step\n",
            "Epoch 99/100\n",
            "7/7 - 0s - loss: 0.4493 - accuracy: 0.8148 - val_loss: 0.5194 - val_accuracy: 0.7912 - 371ms/epoch - 53ms/step\n",
            "Epoch 100/100\n",
            "7/7 - 0s - loss: 0.4697 - accuracy: 0.8194 - val_loss: 0.5194 - val_accuracy: 0.7912 - 290ms/epoch - 41ms/step\n"
          ]
        },
        {
          "output_type": "execute_result",
          "data": {
            "text/plain": [
              "<keras.callbacks.History at 0x7f38a3db9cc0>"
            ]
          },
          "metadata": {},
          "execution_count": 62
        }
      ]
    },
    {
      "cell_type": "code",
      "source": [
        "seaborn.heatmap(data=mfccs[0], cmap='coolwarm', xticklabels=False, yticklabels=False)\n",
        "plt.show()"
      ],
      "metadata": {
        "colab": {
          "base_uri": "https://localhost:8080/",
          "height": 328
        },
        "id": "ORGHhIcK0Lw7",
        "outputId": "2f1b38ed-3ace-4fde-e425-6b421bad7698"
      },
      "execution_count": 17,
      "outputs": [
        {
          "output_type": "error",
          "ename": "IndexError",
          "evalue": "ignored",
          "traceback": [
            "\u001b[0;31m---------------------------------------------------------------------------\u001b[0m",
            "\u001b[0;31mIndexError\u001b[0m                                Traceback (most recent call last)",
            "\u001b[0;32m<ipython-input-17-af9477093b82>\u001b[0m in \u001b[0;36m<cell line: 1>\u001b[0;34m()\u001b[0m\n\u001b[0;32m----> 1\u001b[0;31m \u001b[0mseaborn\u001b[0m\u001b[0;34m.\u001b[0m\u001b[0mheatmap\u001b[0m\u001b[0;34m(\u001b[0m\u001b[0mdata\u001b[0m\u001b[0;34m=\u001b[0m\u001b[0mmfccs\u001b[0m\u001b[0;34m[\u001b[0m\u001b[0;36m0\u001b[0m\u001b[0;34m]\u001b[0m\u001b[0;34m,\u001b[0m \u001b[0mcmap\u001b[0m\u001b[0;34m=\u001b[0m\u001b[0;34m'coolwarm'\u001b[0m\u001b[0;34m,\u001b[0m \u001b[0mxticklabels\u001b[0m\u001b[0;34m=\u001b[0m\u001b[0;32mFalse\u001b[0m\u001b[0;34m,\u001b[0m \u001b[0myticklabels\u001b[0m\u001b[0;34m=\u001b[0m\u001b[0;32mFalse\u001b[0m\u001b[0;34m)\u001b[0m\u001b[0;34m\u001b[0m\u001b[0;34m\u001b[0m\u001b[0m\n\u001b[0m\u001b[1;32m      2\u001b[0m \u001b[0mplt\u001b[0m\u001b[0;34m.\u001b[0m\u001b[0mshow\u001b[0m\u001b[0;34m(\u001b[0m\u001b[0;34m)\u001b[0m\u001b[0;34m\u001b[0m\u001b[0;34m\u001b[0m\u001b[0m\n",
            "\u001b[0;32m/usr/local/lib/python3.10/dist-packages/seaborn/matrix.py\u001b[0m in \u001b[0;36mheatmap\u001b[0;34m(data, vmin, vmax, cmap, center, robust, annot, fmt, annot_kws, linewidths, linecolor, cbar, cbar_kws, cbar_ax, square, xticklabels, yticklabels, mask, ax, **kwargs)\u001b[0m\n\u001b[1;32m    444\u001b[0m     \"\"\"\n\u001b[1;32m    445\u001b[0m     \u001b[0;31m# Initialize the plotter object\u001b[0m\u001b[0;34m\u001b[0m\u001b[0;34m\u001b[0m\u001b[0m\n\u001b[0;32m--> 446\u001b[0;31m     plotter = _HeatMapper(data, vmin, vmax, cmap, center, robust, annot, fmt,\n\u001b[0m\u001b[1;32m    447\u001b[0m                           \u001b[0mannot_kws\u001b[0m\u001b[0;34m,\u001b[0m \u001b[0mcbar\u001b[0m\u001b[0;34m,\u001b[0m \u001b[0mcbar_kws\u001b[0m\u001b[0;34m,\u001b[0m \u001b[0mxticklabels\u001b[0m\u001b[0;34m,\u001b[0m\u001b[0;34m\u001b[0m\u001b[0;34m\u001b[0m\u001b[0m\n\u001b[1;32m    448\u001b[0m                           yticklabels, mask)\n",
            "\u001b[0;32m/usr/local/lib/python3.10/dist-packages/seaborn/matrix.py\u001b[0m in \u001b[0;36m__init__\u001b[0;34m(self, data, vmin, vmax, cmap, center, robust, annot, fmt, annot_kws, cbar, cbar_kws, xticklabels, yticklabels, mask)\u001b[0m\n\u001b[1;32m    113\u001b[0m         \u001b[0mmask\u001b[0m \u001b[0;34m=\u001b[0m \u001b[0m_matrix_mask\u001b[0m\u001b[0;34m(\u001b[0m\u001b[0mdata\u001b[0m\u001b[0;34m,\u001b[0m \u001b[0mmask\u001b[0m\u001b[0;34m)\u001b[0m\u001b[0;34m\u001b[0m\u001b[0;34m\u001b[0m\u001b[0m\n\u001b[1;32m    114\u001b[0m \u001b[0;34m\u001b[0m\u001b[0m\n\u001b[0;32m--> 115\u001b[0;31m         \u001b[0mplot_data\u001b[0m \u001b[0;34m=\u001b[0m \u001b[0mnp\u001b[0m\u001b[0;34m.\u001b[0m\u001b[0mma\u001b[0m\u001b[0;34m.\u001b[0m\u001b[0mmasked_where\u001b[0m\u001b[0;34m(\u001b[0m\u001b[0mnp\u001b[0m\u001b[0;34m.\u001b[0m\u001b[0masarray\u001b[0m\u001b[0;34m(\u001b[0m\u001b[0mmask\u001b[0m\u001b[0;34m)\u001b[0m\u001b[0;34m,\u001b[0m \u001b[0mplot_data\u001b[0m\u001b[0;34m)\u001b[0m\u001b[0;34m\u001b[0m\u001b[0;34m\u001b[0m\u001b[0m\n\u001b[0m\u001b[1;32m    116\u001b[0m \u001b[0;34m\u001b[0m\u001b[0m\n\u001b[1;32m    117\u001b[0m         \u001b[0;31m# Get good names for the rows and columns\u001b[0m\u001b[0;34m\u001b[0m\u001b[0;34m\u001b[0m\u001b[0m\n",
            "\u001b[0;32m/usr/local/lib/python3.10/dist-packages/numpy/ma/core.py\u001b[0m in \u001b[0;36mmasked_where\u001b[0;34m(condition, a, copy)\u001b[0m\n\u001b[1;32m   1924\u001b[0m     \u001b[0;34m(\u001b[0m\u001b[0mcshape\u001b[0m\u001b[0;34m,\u001b[0m \u001b[0mashape\u001b[0m\u001b[0;34m)\u001b[0m \u001b[0;34m=\u001b[0m \u001b[0;34m(\u001b[0m\u001b[0mcond\u001b[0m\u001b[0;34m.\u001b[0m\u001b[0mshape\u001b[0m\u001b[0;34m,\u001b[0m \u001b[0ma\u001b[0m\u001b[0;34m.\u001b[0m\u001b[0mshape\u001b[0m\u001b[0;34m)\u001b[0m\u001b[0;34m\u001b[0m\u001b[0;34m\u001b[0m\u001b[0m\n\u001b[1;32m   1925\u001b[0m     \u001b[0;32mif\u001b[0m \u001b[0mcshape\u001b[0m \u001b[0;32mand\u001b[0m \u001b[0mcshape\u001b[0m \u001b[0;34m!=\u001b[0m \u001b[0mashape\u001b[0m\u001b[0;34m:\u001b[0m\u001b[0;34m\u001b[0m\u001b[0;34m\u001b[0m\u001b[0m\n\u001b[0;32m-> 1926\u001b[0;31m         raise IndexError(\"Inconsistent shape between the condition and the input\"\n\u001b[0m\u001b[1;32m   1927\u001b[0m                          \" (got %s and %s)\" % (cshape, ashape))\n\u001b[1;32m   1928\u001b[0m     \u001b[0;32mif\u001b[0m \u001b[0mhasattr\u001b[0m\u001b[0;34m(\u001b[0m\u001b[0ma\u001b[0m\u001b[0;34m,\u001b[0m \u001b[0;34m'_mask'\u001b[0m\u001b[0;34m)\u001b[0m\u001b[0;34m:\u001b[0m\u001b[0;34m\u001b[0m\u001b[0;34m\u001b[0m\u001b[0m\n",
            "\u001b[0;31mIndexError\u001b[0m: Inconsistent shape between the condition and the input (got (1600, 1) and (1600,))"
          ]
        }
      ]
    },
    {
      "cell_type": "code",
      "source": [
        "import os\n",
        "import zipfile\n",
        "from google.colab import drive\n",
        "import librosa\n",
        "import librosa.display\n",
        "import IPython.display as ipd\n",
        "import matplotlib.pyplot as plt\n",
        "import numpy as np\n",
        "import seaborn\n",
        "import tensorflow\n",
        "\n",
        "drive.mount('/content/drive')\n",
        "os.chdir('/content/drive/My Drive')\n",
        "os.chdir('/content/drive/My Drive/DATA')\n",
        "os.chdir('/content/drive/My Drive/DATA/training/au_secours')\n",
        "\n",
        "# Paramètres MFCC\n",
        "nmfcc = 32\n",
        "hop_length = 512\n",
        "\n",
        "# Liste pour stocker les MFCC de tous les fichiers audio\n",
        "mfccs = []\n",
        "i = 0\n",
        "label_0 = []\n",
        "label_1 = []\n",
        "label = []\n",
        "# Parcourir tous les fichiers audio du dossier\n",
        "for filename in os.listdir(os.curdir):\n",
        "\n",
        "    if filename.endswith('.wav'):\n",
        "\n",
        "        label_1.append(1)\n",
        "        # Charger le fichier audio\n",
        "        audio_path = os.path.join(os.curdir, filename)\n",
        "        audio, sr = librosa.load(audio_path)\n",
        "        # Extraire les MFCC\n",
        "        mfcc = librosa.feature.mfcc(y=audio, sr=sr, n_mfcc=nmfcc, hop_length=hop_length)\n",
        "        # Ajouter les MFCC à la liste\n",
        "        mfccs.append(mfcc)\n",
        "\n",
        "os.chdir('/content/drive/My Drive/DATA/training/noise')\n",
        "for filename in os.listdir(os.curdir):\n",
        "\n",
        "    if filename.endswith('.wav'):\n",
        "\n",
        "        label_0.append(0)\n",
        "        # Charger le fichier audio\n",
        "        audio_path = os.path.join(os.curdir, filename)\n",
        "        audio, sr = librosa.load(audio_path)\n",
        "        # Extraire les MFCC\n",
        "        mfcc = librosa.feature.mfcc(y=audio, sr=sr, n_mfcc=nmfcc, hop_length=hop_length)\n",
        "        # Ajouter les MFCC à la liste\n",
        "        mfccs.append(mfcc)\n",
        "# Convertir la liste en tableau Numpy\n",
        "label = label_1 + label_0\n",
        "\n",
        "mfccs = np.asarray(mfccs)\n",
        "label = np.asarray(label)\n",
        "\n",
        "model = tensorflow.keras.models.Sequential([\n",
        "    tensorflow.keras.layers.Conv2D(filters=32, kernel_size=(3,3), activation='relu', input_shape=(13,44,1)),\n",
        "    tensorflow.keras.layers.MaxPooling2D(pool_size=(2,2)),\n",
        "    tensorflow.keras.layers.Conv2D(filters=64, kernel_size=(3,3), activation='relu'),\n",
        "    tensorflow.keras.layers.MaxPooling2D(pool_size=(2,2)),\n",
        "    tensorflow.keras.layers.Flatten(),\n",
        "    tensorflow.keras.layers.Dense(units=128, activation='relu'),\n",
        "    tensorflow.keras.layers.Dense(units=1, activation='sigmoid')\n",
        "])\n",
        "model.compile(loss='binary_crossentropy', optimizer='adam', metrics=['accuracy'])\n",
        "model.fit(mfccs, label, epochs=10, batch_size=32)"
      ],
      "metadata": {
        "colab": {
          "base_uri": "https://localhost:8080/"
        },
        "id": "b_UKxgTMKd_c",
        "outputId": "529e1fec-6306-40fb-eaed-287034bc4768"
      },
      "execution_count": null,
      "outputs": [
        {
          "output_type": "stream",
          "name": "stdout",
          "text": [
            "Drive already mounted at /content/drive; to attempt to forcibly remount, call drive.mount(\"/content/drive\", force_remount=True).\n",
            "Epoch 1/10\n",
            "44/44 [==============================] - 2s 21ms/step - loss: 1.3828 - accuracy: 0.9199\n",
            "Epoch 2/10\n",
            "44/44 [==============================] - 1s 28ms/step - loss: 0.0574 - accuracy: 0.9907\n",
            "Epoch 3/10\n",
            "44/44 [==============================] - 2s 35ms/step - loss: 0.0042 - accuracy: 0.9986\n",
            "Epoch 4/10\n",
            "44/44 [==============================] - 1s 34ms/step - loss: 0.0072 - accuracy: 0.9971\n",
            "Epoch 5/10\n",
            "44/44 [==============================] - 1s 33ms/step - loss: 0.0158 - accuracy: 0.9943\n",
            "Epoch 6/10\n",
            "44/44 [==============================] - 1s 21ms/step - loss: 8.1264e-04 - accuracy: 0.9993\n",
            "Epoch 7/10\n",
            "44/44 [==============================] - 1s 20ms/step - loss: 2.3360e-05 - accuracy: 1.0000\n",
            "Epoch 8/10\n",
            "44/44 [==============================] - 1s 21ms/step - loss: 1.3904e-05 - accuracy: 1.0000\n",
            "Epoch 9/10\n",
            "44/44 [==============================] - 2s 35ms/step - loss: 1.1133e-05 - accuracy: 1.0000\n",
            "Epoch 10/10\n",
            "44/44 [==============================] - 2s 35ms/step - loss: 9.6521e-06 - accuracy: 1.0000\n"
          ]
        },
        {
          "output_type": "execute_result",
          "data": {
            "text/plain": [
              "<keras.callbacks.History at 0x7f4db626e040>"
            ]
          },
          "metadata": {},
          "execution_count": 80
        }
      ]
    },
    {
      "cell_type": "code",
      "source": [
        "mfccs = np.asarray(mfccs)\n",
        "label = np.asarray(label)\n",
        "print(mfccs.shape)\n",
        "print(label.shape)"
      ],
      "metadata": {
        "colab": {
          "base_uri": "https://localhost:8080/"
        },
        "id": "TbfZOs1DnR5O",
        "outputId": "05110f04-e1b3-4cba-89a2-efbde0c44509"
      },
      "execution_count": null,
      "outputs": [
        {
          "output_type": "stream",
          "name": "stdout",
          "text": [
            "(1398, 13, 44)\n",
            "(1398,)\n"
          ]
        }
      ]
    },
    {
      "cell_type": "code",
      "source": [
        "seaborn.heatmap(data=mfccs[0], cmap='coolwarm', xticklabels=False, yticklabels=False)\n",
        "plt.show()"
      ],
      "metadata": {
        "id": "zNxTmBL6NK5z",
        "colab": {
          "base_uri": "https://localhost:8080/",
          "height": 255
        },
        "outputId": "d104dbb0-9a64-40ac-ad0a-c88b763ca4eb"
      },
      "execution_count": null,
      "outputs": [
        {
          "output_type": "display_data",
          "data": {
            "text/plain": [
              "<Figure size 432x288 with 2 Axes>"
            ],
            "image/png": "[encoded data removed]"
          },
          "metadata": {
            "needs_background": "light"
          }
        }
      ]
    },
    {
      "cell_type": "code",
      "source": [
        "model = tensorflow.keras.models.Sequential([\n",
        "    tensorflow.keras.layers.Conv2D(filters=32, kernel_size=(3,3), activation='relu', input_shape=(13,44,1)),\n",
        "    tensorflow.keras.layers.MaxPooling2D(pool_size=(2,2)),\n",
        "    tensorflow.keras.layers.Conv2D(filters=64, kernel_size=(3,3), activation='relu'),\n",
        "    tensorflow.keras.layers.MaxPooling2D(pool_size=(2,2)),\n",
        "    tensorflow.keras.layers.Flatten(),\n",
        "    tensorflow.keras.layers.Dense(units=128, activation='relu'),\n",
        "    tensorflow.keras.layers.Dense(units=1, activation='sigmoid')\n",
        "])\n",
        "model.compile(loss='binary_crossentropy', optimizer='adam', metrics=['accuracy'])\n",
        "model.fit(mfccs, label, epochs=10, batch_size=32)"
      ],
      "metadata": {
        "colab": {
          "base_uri": "https://localhost:8080/"
        },
        "id": "RdWJ74Mrx2y5",
        "outputId": "895d1e79-8a96-49e9-c5e9-e90a9f2045f6"
      },
      "execution_count": null,
      "outputs": [
        {
          "output_type": "stream",
          "name": "stdout",
          "text": [
            "Epoch 1/10\n",
            "44/44 [==============================] - 2s 21ms/step - loss: 1.5205 - accuracy: 0.9235\n",
            "Epoch 2/10\n",
            "44/44 [==============================] - 1s 21ms/step - loss: 0.0324 - accuracy: 0.9943\n",
            "Epoch 3/10\n",
            "44/44 [==============================] - 1s 25ms/step - loss: 0.0085 - accuracy: 0.9971\n",
            "Epoch 4/10\n",
            "44/44 [==============================] - 1s 32ms/step - loss: 0.0097 - accuracy: 0.9971\n",
            "Epoch 5/10\n",
            "44/44 [==============================] - 1s 22ms/step - loss: 0.0022 - accuracy: 0.9993\n",
            "Epoch 6/10\n",
            "44/44 [==============================] - 1s 21ms/step - loss: 5.1763e-04 - accuracy: 1.0000\n",
            "Epoch 7/10\n",
            "44/44 [==============================] - 1s 20ms/step - loss: 1.8047e-04 - accuracy: 1.0000\n",
            "Epoch 8/10\n",
            "44/44 [==============================] - 1s 20ms/step - loss: 1.1977e-04 - accuracy: 1.0000\n",
            "Epoch 9/10\n",
            "44/44 [==============================] - 1s 20ms/step - loss: 9.5970e-05 - accuracy: 1.0000\n",
            "Epoch 10/10\n",
            "44/44 [==============================] - 1s 29ms/step - loss: 8.3491e-05 - accuracy: 1.0000\n"
          ]
        },
        {
          "output_type": "execute_result",
          "data": {
            "text/plain": [
              "<keras.callbacks.History at 0x7f4e1acf3580>"
            ]
          },
          "metadata": {},
          "execution_count": 55
        }
      ]
    },
    {
      "cell_type": "code",
      "source": [
        "model.save('kws_model2.h5')"
      ],
      "metadata": {
        "id": "VPGORnjh0N0F"
      },
      "execution_count": null,
      "outputs": []
    },
    {
      "cell_type": "code",
      "source": [
        "model = tensorflow.keras.models.load_model('kws_model2.h5')\n",
        "\n",
        "# Charger le fichier audio\n",
        "audio_file_bon = '/content/drive/MyDrive/DATA/testing/au_secours_test.wav'\n",
        "audio_file_mauvais ='/content/drive/MyDrive/DATA/testing/unknown.1ed0b13d_nohash_1.wav.3rugckda.ingestion-5877979785-4ctzf.wav'\n",
        "samples1, sample_rate1 = librosa.load(audio_file_bon)\n",
        "samples2, sample_rate2 = librosa.load(audio_file_mauvais)\n",
        "\n",
        "# Extraire les caractéristiques MFCC\n",
        "mfccs_bon = librosa.feature.mfcc(y=samples1, sr=22050, n_mfcc=13)\n",
        "mfccs_mauvais = librosa.feature.mfcc(y=samples2, sr=22050, n_mfcc=13)\n",
        "\n",
        "\n",
        "mfccs_bon_reshaped = np.reshape(mfccs_bon, (13, 44, 1))\n",
        "mfccs_mauvais_reshaped = np.reshape(mfccs_mauvais, (13, 44, 1))\n",
        "\n",
        "\n",
        "# Prédire le mot-clé\n",
        "prediction_bon = model.predict(np.array([mfccs_bon_reshaped]))\n",
        "prediction_mauvais = model.predict(np.array([mfccs_mauvais_reshaped]))\n",
        "\n",
        "mfccs_plot =np.squeeze(np.array([mfccs_bon_reshaped]))\n",
        "print(mfccs_plot.shape)\n",
        "\n",
        "\n",
        "seaborn.heatmap(data=mfccs_plot, cmap='coolwarm', xticklabels=False, yticklabels=False)\n",
        "print(f\"prediction bon : {prediction_bon}\")\n",
        "plt.show()\n",
        "seaborn.heatmap(data=mfccs_mauvais, cmap='coolwarm', xticklabels=False, yticklabels=False)\n",
        "print(f\"prediction mauvais : {prediction_mauvais}\")\n"
      ],
      "metadata": {
        "colab": {
          "base_uri": "https://localhost:8080/",
          "height": 577
        },
        "id": "9eoBGMTb0iwT",
        "outputId": "f5775c90-0e6c-415b-82d3-490652739e4e"
      },
      "execution_count": null,
      "outputs": [
        {
          "output_type": "stream",
          "name": "stdout",
          "text": [
            "1/1 [==============================] - 0s 174ms/step\n",
            "1/1 [==============================] - 0s 62ms/step\n",
            "(13, 44)\n",
            "prediction bon : [[0.00098328]]\n"
          ]
        },
        {
          "output_type": "display_data",
          "data": {
            "text/plain": [
              "<Figure size 432x288 with 2 Axes>"
            ],
            "image/png": "[encoded data removed]"
          },
          "metadata": {
            "needs_background": "light"
          }
        },
        {
          "output_type": "stream",
          "name": "stdout",
          "text": [
            "prediction mauvais : [[0.41183206]]\n"
          ]
        },
        {
          "output_type": "display_data",
          "data": {
            "text/plain": [
              "<Figure size 432x288 with 2 Axes>"
            ],
            "image/png": "[encoded data removed]"
          },
          "metadata": {
            "needs_background": "light"
          }
        }
      ]
    }
  ]
}