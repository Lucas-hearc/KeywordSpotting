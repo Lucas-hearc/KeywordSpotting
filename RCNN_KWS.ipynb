{
  "nbformat": 4,
  "nbformat_minor": 0,
  "metadata": {
    "colab": {
      "provenance": [],
      "name": "RCNN_KWS.ipynb",
      "authorship_tag": "ABX9TyN9KdrQ2uPKDpbkIbM7OzV6",
      "include_colab_link": true
    },
    "kernelspec": {
      "name": "python3",
      "display_name": "Python 3"
    },
    "language_info": {
      "name": "python"
    }
  },
  "cells": [
    {
      "cell_type": "markdown",
      "metadata": {
        "id": "view-in-github",
        "colab_type": "text"
      },
      "source": [
        "<a href=\"https://colab.research.google.com/github/Lucas-hearc/KeywordSpotting/blob/main/RCNN_KWS.ipynb\" target=\"_parent\"><img src=\"https://colab.research.google.com/assets/colab-badge.svg\" alt=\"Open In Colab\"/></a>"
      ]
    },
    {
      "cell_type": "code",
      "execution_count": null,
      "metadata": {
        "id": "y_19dBueGd32"
      },
      "outputs": [],
      "source": [
        "!pip install librosa\n",
        "!pip install numpy\n",
        "!pip install matplotlib\n",
        "!pip install tensorflow"
      ]
    },
    {
      "cell_type": "code",
      "source": [],
      "metadata": {
        "id": "KBuzMK1AaG91"
      },
      "execution_count": null,
      "outputs": []
    },
    {
      "cell_type": "code",
      "source": [
        "import os\n",
        "import zipfile\n",
        "from google.colab import drive\n",
        "import librosa\n",
        "import librosa.display\n",
        "import IPython.display as ipd\n",
        "import matplotlib.pyplot as plt\n",
        "import numpy as np\n",
        "import seaborn\n",
        "import tensorflow\n",
        "\n",
        "drive.mount('/content/drive')\n",
        "os.chdir('/content/drive/My Drive')\n",
        "os.chdir('/content/drive/My Drive/DATA')\n",
        "os.chdir('/content/drive/My Drive/DATA/training/au_secours')"
      ],
      "metadata": {
        "colab": {
          "base_uri": "https://localhost:8080/"
        },
        "id": "9qhe-1blIJ2w",
        "outputId": "bbe86c88-7324-4791-b9ef-2fd97ee6092f"
      },
      "execution_count": null,
      "outputs": [
        {
          "output_type": "stream",
          "name": "stdout",
          "text": [
            "Drive already mounted at /content/drive; to attempt to forcibly remount, call drive.mount(\"/content/drive\", force_remount=True).\n"
          ]
        }
      ]
    },
    {
      "cell_type": "code",
      "source": [
        "audio_file = '/content/drive/MyDrive/DATA/training/au_secours/au secour.3rv6kt9k.ingestion-5877979785-4ctzf.s43.wav'\n",
        "ipd.Audio(audio_file)\n"
      ],
      "metadata": {
        "colab": {
          "base_uri": "https://localhost:8080/",
          "height": 336
        },
        "id": "64S2MtqfIVgQ",
        "outputId": "73300e25-16ab-4f55-c3af-b4db33ae3515"
      },
      "execution_count": null,
      "outputs": [
        {
          "output_type": "error",
          "ename": "ValueError",
          "evalue": "ignored",
          "traceback": [
            "\u001b[0;31m---------------------------------------------------------------------------\u001b[0m",
            "\u001b[0;31mValueError\u001b[0m                                Traceback (most recent call last)",
            "\u001b[0;32m<ipython-input-24-47def4044ffc>\u001b[0m in \u001b[0;36m<module>\u001b[0;34m\u001b[0m\n\u001b[1;32m      1\u001b[0m \u001b[0maudio_file\u001b[0m \u001b[0;34m=\u001b[0m \u001b[0;34m'/content/drive/MyDrive/DATA/training/au_secours/au secour.3rv6kt9k.ingestion-5877979785-4ctzf.s43.wav'\u001b[0m\u001b[0;34m\u001b[0m\u001b[0;34m\u001b[0m\u001b[0m\n\u001b[0;32m----> 2\u001b[0;31m \u001b[0mipd\u001b[0m\u001b[0;34m.\u001b[0m\u001b[0mAudio\u001b[0m\u001b[0;34m(\u001b[0m\u001b[0maudio_file\u001b[0m\u001b[0;34m)\u001b[0m\u001b[0;34m\u001b[0m\u001b[0;34m\u001b[0m\u001b[0m\n\u001b[0m",
            "\u001b[0;32m/usr/local/lib/python3.9/dist-packages/IPython/lib/display.py\u001b[0m in \u001b[0;36m__init__\u001b[0;34m(self, data, filename, url, embed, rate, autoplay, normalize, element_id)\u001b[0m\n\u001b[1;32m    112\u001b[0m         \u001b[0;32mif\u001b[0m \u001b[0mself\u001b[0m\u001b[0;34m.\u001b[0m\u001b[0mdata\u001b[0m \u001b[0;32mis\u001b[0m \u001b[0;32mnot\u001b[0m \u001b[0;32mNone\u001b[0m \u001b[0;32mand\u001b[0m \u001b[0;32mnot\u001b[0m \u001b[0misinstance\u001b[0m\u001b[0;34m(\u001b[0m\u001b[0mself\u001b[0m\u001b[0;34m.\u001b[0m\u001b[0mdata\u001b[0m\u001b[0;34m,\u001b[0m \u001b[0mbytes\u001b[0m\u001b[0;34m)\u001b[0m\u001b[0;34m:\u001b[0m\u001b[0;34m\u001b[0m\u001b[0;34m\u001b[0m\u001b[0m\n\u001b[1;32m    113\u001b[0m             \u001b[0;32mif\u001b[0m \u001b[0mrate\u001b[0m \u001b[0;32mis\u001b[0m \u001b[0;32mNone\u001b[0m\u001b[0;34m:\u001b[0m\u001b[0;34m\u001b[0m\u001b[0;34m\u001b[0m\u001b[0m\n\u001b[0;32m--> 114\u001b[0;31m                 \u001b[0;32mraise\u001b[0m \u001b[0mValueError\u001b[0m\u001b[0;34m(\u001b[0m\u001b[0;34m\"rate must be specified when data is a numpy array or list of audio samples.\"\u001b[0m\u001b[0;34m)\u001b[0m\u001b[0;34m\u001b[0m\u001b[0;34m\u001b[0m\u001b[0m\n\u001b[0m\u001b[1;32m    115\u001b[0m             \u001b[0mself\u001b[0m\u001b[0;34m.\u001b[0m\u001b[0mdata\u001b[0m \u001b[0;34m=\u001b[0m \u001b[0mAudio\u001b[0m\u001b[0;34m.\u001b[0m\u001b[0m_make_wav\u001b[0m\u001b[0;34m(\u001b[0m\u001b[0mdata\u001b[0m\u001b[0;34m,\u001b[0m \u001b[0mrate\u001b[0m\u001b[0;34m,\u001b[0m \u001b[0mnormalize\u001b[0m\u001b[0;34m)\u001b[0m\u001b[0;34m\u001b[0m\u001b[0;34m\u001b[0m\u001b[0m\n\u001b[1;32m    116\u001b[0m \u001b[0;34m\u001b[0m\u001b[0m\n",
            "\u001b[0;31mValueError\u001b[0m: rate must be specified when data is a numpy array or list of audio samples."
          ]
        }
      ]
    },
    {
      "cell_type": "code",
      "source": [
        "import os\n",
        "import zipfile\n",
        "from google.colab import drive\n",
        "import librosa\n",
        "import librosa.display\n",
        "import IPython.display as ipd\n",
        "import matplotlib.pyplot as plt\n",
        "import numpy as np\n",
        "import seaborn\n",
        "import tensorflow\n",
        "\n",
        "drive.mount('/content/drive')\n",
        "os.chdir('/content/drive/My Drive')\n",
        "os.chdir('/content/drive/My Drive/DATA')\n",
        "os.chdir('/content/drive/My Drive/DATA/training/au_secours')\n",
        "\n",
        "# Paramètres MFCC\n",
        "nmfcc = 13\n",
        "hop_length = 512\n",
        "\n",
        "# Liste pour stocker les MFCC de tous les fichiers audio\n",
        "mfccs = []\n",
        "i = 0\n",
        "label_0 = []\n",
        "label_1 = []\n",
        "label = []\n",
        "# Parcourir tous les fichiers audio du dossier\n",
        "for filename in os.listdir(os.curdir):\n",
        "\n",
        "    if filename.endswith('.wav'):\n",
        "\n",
        "        label_1.append(1)\n",
        "        # Charger le fichier audio\n",
        "        audio_path = os.path.join(os.curdir, filename)\n",
        "        audio, sr = librosa.load(audio_path)\n",
        "        # Extraire les MFCC\n",
        "        mfcc = librosa.feature.mfcc(y=audio, sr=sr, n_mfcc=nmfcc, hop_length=hop_length)\n",
        "        # Ajouter les MFCC à la liste\n",
        "        mfccs.append(mfcc)\n",
        "\n",
        "os.chdir('/content/drive/My Drive/DATA/training/noise')\n",
        "for filename in os.listdir(os.curdir):\n",
        "\n",
        "    if filename.endswith('.wav'):\n",
        "\n",
        "        label_0.append(0)\n",
        "        # Charger le fichier audio\n",
        "        audio_path = os.path.join(os.curdir, filename)\n",
        "        audio, sr = librosa.load(audio_path)\n",
        "        # Extraire les MFCC\n",
        "        mfcc = librosa.feature.mfcc(y=audio, sr=sr, n_mfcc=nmfcc, hop_length=hop_length)\n",
        "        # Ajouter les MFCC à la liste\n",
        "        mfccs.append(mfcc)\n",
        "# Convertir la liste en tableau Numpy\n",
        "label = label_1 + label_0\n",
        "\n",
        "mfccs = np.asarray(mfccs)\n",
        "label = np.asarray(label)\n",
        "\n",
        "model = tensorflow.keras.models.Sequential([\n",
        "    tensorflow.keras.layers.Conv2D(filters=32, kernel_size=(3,3), activation='relu', input_shape=(13,44,1)),\n",
        "    tensorflow.keras.layers.MaxPooling2D(pool_size=(2,2)),\n",
        "    tensorflow.keras.layers.Conv2D(filters=64, kernel_size=(3,3), activation='relu'),\n",
        "    tensorflow.keras.layers.MaxPooling2D(pool_size=(2,2)),\n",
        "    tensorflow.keras.layers.Flatten(),\n",
        "    tensorflow.keras.layers.Dense(units=128, activation='relu'),\n",
        "    tensorflow.keras.layers.Dense(units=1, activation='sigmoid')\n",
        "])\n",
        "model.compile(loss='binary_crossentropy', optimizer='adam', metrics=['accuracy'])\n",
        "model.fit(mfccs, label, epochs=10, batch_size=32)"
      ],
      "metadata": {
        "colab": {
          "base_uri": "https://localhost:8080/"
        },
        "id": "b_UKxgTMKd_c",
        "outputId": "529e1fec-6306-40fb-eaed-287034bc4768"
      },
      "execution_count": null,
      "outputs": [
        {
          "output_type": "stream",
          "name": "stdout",
          "text": [
            "Drive already mounted at /content/drive; to attempt to forcibly remount, call drive.mount(\"/content/drive\", force_remount=True).\n",
            "Epoch 1/10\n",
            "44/44 [==============================] - 2s 21ms/step - loss: 1.3828 - accuracy: 0.9199\n",
            "Epoch 2/10\n",
            "44/44 [==============================] - 1s 28ms/step - loss: 0.0574 - accuracy: 0.9907\n",
            "Epoch 3/10\n",
            "44/44 [==============================] - 2s 35ms/step - loss: 0.0042 - accuracy: 0.9986\n",
            "Epoch 4/10\n",
            "44/44 [==============================] - 1s 34ms/step - loss: 0.0072 - accuracy: 0.9971\n",
            "Epoch 5/10\n",
            "44/44 [==============================] - 1s 33ms/step - loss: 0.0158 - accuracy: 0.9943\n",
            "Epoch 6/10\n",
            "44/44 [==============================] - 1s 21ms/step - loss: 8.1264e-04 - accuracy: 0.9993\n",
            "Epoch 7/10\n",
            "44/44 [==============================] - 1s 20ms/step - loss: 2.3360e-05 - accuracy: 1.0000\n",
            "Epoch 8/10\n",
            "44/44 [==============================] - 1s 21ms/step - loss: 1.3904e-05 - accuracy: 1.0000\n",
            "Epoch 9/10\n",
            "44/44 [==============================] - 2s 35ms/step - loss: 1.1133e-05 - accuracy: 1.0000\n",
            "Epoch 10/10\n",
            "44/44 [==============================] - 2s 35ms/step - loss: 9.6521e-06 - accuracy: 1.0000\n"
          ]
        },
        {
          "output_type": "execute_result",
          "data": {
            "text/plain": [
              "<keras.callbacks.History at 0x7f4db626e040>"
            ]
          },
          "metadata": {},
          "execution_count": 80
        }
      ]
    },
    {
      "cell_type": "code",
      "source": [
        "mfccs = np.asarray(mfccs)\n",
        "label = np.asarray(label)\n",
        "print(mfccs.shape)\n",
        "print(label.shape)"
      ],
      "metadata": {
        "colab": {
          "base_uri": "https://localhost:8080/"
        },
        "id": "TbfZOs1DnR5O",
        "outputId": "05110f04-e1b3-4cba-89a2-efbde0c44509"
      },
      "execution_count": null,
      "outputs": [
        {
          "output_type": "stream",
          "name": "stdout",
          "text": [
            "(1398, 13, 44)\n",
            "(1398,)\n"
          ]
        }
      ]
    },
    {
      "cell_type": "code",
      "source": [
        "seaborn.heatmap(data=mfccs[0], cmap='coolwarm', xticklabels=False, yticklabels=False)\n",
        "plt.show()"
      ],
      "metadata": {
        "id": "zNxTmBL6NK5z",
        "colab": {
          "base_uri": "https://localhost:8080/",
          "height": 255
        },
        "outputId": "d104dbb0-9a64-40ac-ad0a-c88b763ca4eb"
      },
      "execution_count": null,
      "outputs": [
        {
          "output_type": "display_data",
          "data": {
            "text/plain": [
              "<Figure size 432x288 with 2 Axes>"
            ],
            "image/png": "[encoded data removed]"
          },
          "metadata": {
            "needs_background": "light"
          }
        }
      ]
    },
    {
      "cell_type": "code",
      "source": [
        "model = tensorflow.keras.models.Sequential([\n",
        "    tensorflow.keras.layers.Conv2D(filters=32, kernel_size=(3,3), activation='relu', input_shape=(13,44,1)),\n",
        "    tensorflow.keras.layers.MaxPooling2D(pool_size=(2,2)),\n",
        "    tensorflow.keras.layers.Conv2D(filters=64, kernel_size=(3,3), activation='relu'),\n",
        "    tensorflow.keras.layers.MaxPooling2D(pool_size=(2,2)),\n",
        "    tensorflow.keras.layers.Flatten(),\n",
        "    tensorflow.keras.layers.Dense(units=128, activation='relu'),\n",
        "    tensorflow.keras.layers.Dense(units=1, activation='sigmoid')\n",
        "])\n",
        "model.compile(loss='binary_crossentropy', optimizer='adam', metrics=['accuracy'])\n",
        "model.fit(mfccs, label, epochs=10, batch_size=32)"
      ],
      "metadata": {
        "colab": {
          "base_uri": "https://localhost:8080/"
        },
        "id": "RdWJ74Mrx2y5",
        "outputId": "895d1e79-8a96-49e9-c5e9-e90a9f2045f6"
      },
      "execution_count": null,
      "outputs": [
        {
          "output_type": "stream",
          "name": "stdout",
          "text": [
            "Epoch 1/10\n",
            "44/44 [==============================] - 2s 21ms/step - loss: 1.5205 - accuracy: 0.9235\n",
            "Epoch 2/10\n",
            "44/44 [==============================] - 1s 21ms/step - loss: 0.0324 - accuracy: 0.9943\n",
            "Epoch 3/10\n",
            "44/44 [==============================] - 1s 25ms/step - loss: 0.0085 - accuracy: 0.9971\n",
            "Epoch 4/10\n",
            "44/44 [==============================] - 1s 32ms/step - loss: 0.0097 - accuracy: 0.9971\n",
            "Epoch 5/10\n",
            "44/44 [==============================] - 1s 22ms/step - loss: 0.0022 - accuracy: 0.9993\n",
            "Epoch 6/10\n",
            "44/44 [==============================] - 1s 21ms/step - loss: 5.1763e-04 - accuracy: 1.0000\n",
            "Epoch 7/10\n",
            "44/44 [==============================] - 1s 20ms/step - loss: 1.8047e-04 - accuracy: 1.0000\n",
            "Epoch 8/10\n",
            "44/44 [==============================] - 1s 20ms/step - loss: 1.1977e-04 - accuracy: 1.0000\n",
            "Epoch 9/10\n",
            "44/44 [==============================] - 1s 20ms/step - loss: 9.5970e-05 - accuracy: 1.0000\n",
            "Epoch 10/10\n",
            "44/44 [==============================] - 1s 29ms/step - loss: 8.3491e-05 - accuracy: 1.0000\n"
          ]
        },
        {
          "output_type": "execute_result",
          "data": {
            "text/plain": [
              "<keras.callbacks.History at 0x7f4e1acf3580>"
            ]
          },
          "metadata": {},
          "execution_count": 55
        }
      ]
    },
    {
      "cell_type": "code",
      "source": [
        "model.save('kws_model2.h5')"
      ],
      "metadata": {
        "id": "VPGORnjh0N0F"
      },
      "execution_count": null,
      "outputs": []
    },
    {
      "cell_type": "code",
      "source": [
        "model = tensorflow.keras.models.load_model('kws_model2.h5')\n",
        "\n",
        "# Charger le fichier audio\n",
        "audio_file_bon = '/content/drive/MyDrive/DATA/testing/au_secours_test.wav'\n",
        "audio_file_mauvais ='/content/drive/MyDrive/DATA/testing/unknown.1ed0b13d_nohash_1.wav.3rugckda.ingestion-5877979785-4ctzf.wav'\n",
        "samples1, sample_rate1 = librosa.load(audio_file_bon)\n",
        "samples2, sample_rate2 = librosa.load(audio_file_mauvais)\n",
        "\n",
        "# Extraire les caractéristiques MFCC\n",
        "mfccs_bon = librosa.feature.mfcc(y=samples1, sr=22050, n_mfcc=13)\n",
        "mfccs_mauvais = librosa.feature.mfcc(y=samples2, sr=22050, n_mfcc=13)\n",
        "\n",
        "\n",
        "mfccs_bon_reshaped = np.reshape(mfccs_bon, (13, 44, 1))\n",
        "mfccs_mauvais_reshaped = np.reshape(mfccs_mauvais, (13, 44, 1))\n",
        "\n",
        "\n",
        "# Prédire le mot-clé\n",
        "prediction_bon = model.predict(np.array([mfccs_bon_reshaped]))\n",
        "prediction_mauvais = model.predict(np.array([mfccs_mauvais_reshaped]))\n",
        "\n",
        "mfccs_plot =np.squeeze(np.array([mfccs_bon_reshaped]))\n",
        "print(mfccs_plot.shape)\n",
        "\n",
        "\n",
        "seaborn.heatmap(data=mfccs_plot, cmap='coolwarm', xticklabels=False, yticklabels=False)\n",
        "print(f\"prediction bon : {prediction_bon}\")\n",
        "plt.show()\n",
        "seaborn.heatmap(data=mfccs_mauvais, cmap='coolwarm', xticklabels=False, yticklabels=False)\n",
        "print(f\"prediction mauvais : {prediction_mauvais}\")\n"
      ],
      "metadata": {
        "colab": {
          "base_uri": "https://localhost:8080/",
          "height": 577
        },
        "id": "9eoBGMTb0iwT",
        "outputId": "f5775c90-0e6c-415b-82d3-490652739e4e"
      },
      "execution_count": null,
      "outputs": [
        {
          "output_type": "stream",
          "name": "stdout",
          "text": [
            "1/1 [==============================] - 0s 174ms/step\n",
            "1/1 [==============================] - 0s 62ms/step\n",
            "(13, 44)\n",
            "prediction bon : [[0.00098328]]\n"
          ]
        },
        {
          "output_type": "display_data",
          "data": {
            "text/plain": [
              "<Figure size 432x288 with 2 Axes>"
            ],
            "image/png": "[encoded data removed]"
          },
          "metadata": {
            "needs_background": "light"
          }
        },
        {
          "output_type": "stream",
          "name": "stdout",
          "text": [
            "prediction mauvais : [[0.41183206]]\n"
          ]
        },
        {
          "output_type": "display_data",
          "data": {
            "text/plain": [
              "<Figure size 432x288 with 2 Axes>"
            ],
            "image/png": "[encoded data removed]"
          },
          "metadata": {
            "needs_background": "light"
          }
        }
      ]
    }
  ]
}